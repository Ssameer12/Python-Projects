{
 "cells": [
  {
   "cell_type": "markdown",
   "id": "580d67c2",
   "metadata": {},
   "source": [
    "# Identifying Stationarity using plotting and Statistical testing methods."
   ]
  },
  {
   "cell_type": "code",
   "execution_count": 1,
   "id": "198bea7b",
   "metadata": {},
   "outputs": [],
   "source": [
    "import pandas as pd\n",
    "import numpy as np\n",
    "import matplotlib.pyplot as plt\n",
    "from datetime import datetime as dt"
   ]
  },
  {
   "cell_type": "code",
   "execution_count": 2,
   "id": "a1c3f115",
   "metadata": {},
   "outputs": [
    {
     "data": {
      "text/html": [
       "<div>\n",
       "<style scoped>\n",
       "    .dataframe tbody tr th:only-of-type {\n",
       "        vertical-align: middle;\n",
       "    }\n",
       "\n",
       "    .dataframe tbody tr th {\n",
       "        vertical-align: top;\n",
       "    }\n",
       "\n",
       "    .dataframe thead th {\n",
       "        text-align: right;\n",
       "    }\n",
       "</style>\n",
       "<table border=\"1\" class=\"dataframe\">\n",
       "  <thead>\n",
       "    <tr style=\"text-align: right;\">\n",
       "      <th></th>\n",
       "      <th>Quarter</th>\n",
       "      <th>Revenue</th>\n",
       "      <th>Net Income</th>\n",
       "    </tr>\n",
       "  </thead>\n",
       "  <tbody>\n",
       "    <tr>\n",
       "      <th>0</th>\n",
       "      <td>3/31/2020</td>\n",
       "      <td>75452</td>\n",
       "      <td>2535</td>\n",
       "    </tr>\n",
       "    <tr>\n",
       "      <th>1</th>\n",
       "      <td>12/31/2019</td>\n",
       "      <td>87437</td>\n",
       "      <td>3268</td>\n",
       "    </tr>\n",
       "    <tr>\n",
       "      <th>2</th>\n",
       "      <td>9/30/2019</td>\n",
       "      <td>69981</td>\n",
       "      <td>2134</td>\n",
       "    </tr>\n",
       "    <tr>\n",
       "      <th>3</th>\n",
       "      <td>6/30/2019</td>\n",
       "      <td>63404</td>\n",
       "      <td>2625</td>\n",
       "    </tr>\n",
       "    <tr>\n",
       "      <th>4</th>\n",
       "      <td>3/31/2019</td>\n",
       "      <td>59700</td>\n",
       "      <td>3561</td>\n",
       "    </tr>\n",
       "  </tbody>\n",
       "</table>\n",
       "</div>"
      ],
      "text/plain": [
       "      Quarter  Revenue  Net Income\n",
       "0   3/31/2020    75452        2535\n",
       "1  12/31/2019    87437        3268\n",
       "2   9/30/2019    69981        2134\n",
       "3   6/30/2019    63404        2625\n",
       "4   3/31/2019    59700        3561"
      ]
     },
     "execution_count": 2,
     "metadata": {},
     "output_type": "execute_result"
    }
   ],
   "source": [
    "data = pd.read_csv('./amazon_revenue_profit.csv')\n",
    "data.head()"
   ]
  },
  {
   "cell_type": "code",
   "execution_count": 3,
   "id": "14f710ae",
   "metadata": {},
   "outputs": [
    {
     "name": "stdout",
     "output_type": "stream",
     "text": [
      "<class 'pandas.core.frame.DataFrame'>\n",
      "RangeIndex: 61 entries, 0 to 60\n",
      "Data columns (total 3 columns):\n",
      " #   Column      Non-Null Count  Dtype \n",
      "---  ------      --------------  ----- \n",
      " 0   Quarter     61 non-null     object\n",
      " 1   Revenue     61 non-null     int64 \n",
      " 2   Net Income  61 non-null     int64 \n",
      "dtypes: int64(2), object(1)\n",
      "memory usage: 1.6+ KB\n"
     ]
    }
   ],
   "source": [
    "data.info() #Quarter is in object format converting into datetime format."
   ]
  },
  {
   "cell_type": "code",
   "execution_count": 4,
   "id": "8a01f4d1",
   "metadata": {},
   "outputs": [
    {
     "data": {
      "text/html": [
       "<div>\n",
       "<style scoped>\n",
       "    .dataframe tbody tr th:only-of-type {\n",
       "        vertical-align: middle;\n",
       "    }\n",
       "\n",
       "    .dataframe tbody tr th {\n",
       "        vertical-align: top;\n",
       "    }\n",
       "\n",
       "    .dataframe thead th {\n",
       "        text-align: right;\n",
       "    }\n",
       "</style>\n",
       "<table border=\"1\" class=\"dataframe\">\n",
       "  <thead>\n",
       "    <tr style=\"text-align: right;\">\n",
       "      <th></th>\n",
       "      <th>Quarter</th>\n",
       "      <th>Revenue</th>\n",
       "      <th>Net Income</th>\n",
       "    </tr>\n",
       "  </thead>\n",
       "  <tbody>\n",
       "    <tr>\n",
       "      <th>0</th>\n",
       "      <td>2020-03-31</td>\n",
       "      <td>75452</td>\n",
       "      <td>2535</td>\n",
       "    </tr>\n",
       "    <tr>\n",
       "      <th>1</th>\n",
       "      <td>2019-12-31</td>\n",
       "      <td>87437</td>\n",
       "      <td>3268</td>\n",
       "    </tr>\n",
       "    <tr>\n",
       "      <th>2</th>\n",
       "      <td>2019-09-30</td>\n",
       "      <td>69981</td>\n",
       "      <td>2134</td>\n",
       "    </tr>\n",
       "    <tr>\n",
       "      <th>3</th>\n",
       "      <td>2019-06-30</td>\n",
       "      <td>63404</td>\n",
       "      <td>2625</td>\n",
       "    </tr>\n",
       "    <tr>\n",
       "      <th>4</th>\n",
       "      <td>2019-03-31</td>\n",
       "      <td>59700</td>\n",
       "      <td>3561</td>\n",
       "    </tr>\n",
       "  </tbody>\n",
       "</table>\n",
       "</div>"
      ],
      "text/plain": [
       "     Quarter  Revenue  Net Income\n",
       "0 2020-03-31    75452        2535\n",
       "1 2019-12-31    87437        3268\n",
       "2 2019-09-30    69981        2134\n",
       "3 2019-06-30    63404        2625\n",
       "4 2019-03-31    59700        3561"
      ]
     },
     "execution_count": 4,
     "metadata": {},
     "output_type": "execute_result"
    }
   ],
   "source": [
    "data = pd.read_csv('./amazon_revenue_profit.csv',parse_dates=['Quarter'])\n",
    "data.head()"
   ]
  },
  {
   "cell_type": "code",
   "execution_count": 5,
   "id": "b4cce6bb",
   "metadata": {},
   "outputs": [
    {
     "name": "stdout",
     "output_type": "stream",
     "text": [
      "<class 'pandas.core.frame.DataFrame'>\n",
      "RangeIndex: 61 entries, 0 to 60\n",
      "Data columns (total 3 columns):\n",
      " #   Column      Non-Null Count  Dtype         \n",
      "---  ------      --------------  -----         \n",
      " 0   Quarter     61 non-null     datetime64[ns]\n",
      " 1   Revenue     61 non-null     int64         \n",
      " 2   Net Income  61 non-null     int64         \n",
      "dtypes: datetime64[ns](1), int64(2)\n",
      "memory usage: 1.6 KB\n"
     ]
    }
   ],
   "source": [
    "data.info()"
   ]
  },
  {
   "cell_type": "code",
   "execution_count": 6,
   "id": "9a8faa0d",
   "metadata": {},
   "outputs": [],
   "source": [
    "data.set_index('Quarter',inplace=True)"
   ]
  },
  {
   "cell_type": "code",
   "execution_count": 7,
   "id": "544adb0e",
   "metadata": {},
   "outputs": [
    {
     "data": {
      "text/html": [
       "<div>\n",
       "<style scoped>\n",
       "    .dataframe tbody tr th:only-of-type {\n",
       "        vertical-align: middle;\n",
       "    }\n",
       "\n",
       "    .dataframe tbody tr th {\n",
       "        vertical-align: top;\n",
       "    }\n",
       "\n",
       "    .dataframe thead th {\n",
       "        text-align: right;\n",
       "    }\n",
       "</style>\n",
       "<table border=\"1\" class=\"dataframe\">\n",
       "  <thead>\n",
       "    <tr style=\"text-align: right;\">\n",
       "      <th></th>\n",
       "      <th>Revenue</th>\n",
       "      <th>Net Income</th>\n",
       "    </tr>\n",
       "    <tr>\n",
       "      <th>Quarter</th>\n",
       "      <th></th>\n",
       "      <th></th>\n",
       "    </tr>\n",
       "  </thead>\n",
       "  <tbody>\n",
       "    <tr>\n",
       "      <th>2020-03-31</th>\n",
       "      <td>75452</td>\n",
       "      <td>2535</td>\n",
       "    </tr>\n",
       "    <tr>\n",
       "      <th>2019-12-31</th>\n",
       "      <td>87437</td>\n",
       "      <td>3268</td>\n",
       "    </tr>\n",
       "    <tr>\n",
       "      <th>2019-09-30</th>\n",
       "      <td>69981</td>\n",
       "      <td>2134</td>\n",
       "    </tr>\n",
       "    <tr>\n",
       "      <th>2019-06-30</th>\n",
       "      <td>63404</td>\n",
       "      <td>2625</td>\n",
       "    </tr>\n",
       "    <tr>\n",
       "      <th>2019-03-31</th>\n",
       "      <td>59700</td>\n",
       "      <td>3561</td>\n",
       "    </tr>\n",
       "    <tr>\n",
       "      <th>...</th>\n",
       "      <td>...</td>\n",
       "      <td>...</td>\n",
       "    </tr>\n",
       "    <tr>\n",
       "      <th>2006-03-31</th>\n",
       "      <td>2279</td>\n",
       "      <td>51</td>\n",
       "    </tr>\n",
       "    <tr>\n",
       "      <th>2005-12-31</th>\n",
       "      <td>2977</td>\n",
       "      <td>199</td>\n",
       "    </tr>\n",
       "    <tr>\n",
       "      <th>2005-09-30</th>\n",
       "      <td>1858</td>\n",
       "      <td>30</td>\n",
       "    </tr>\n",
       "    <tr>\n",
       "      <th>2005-06-30</th>\n",
       "      <td>1753</td>\n",
       "      <td>52</td>\n",
       "    </tr>\n",
       "    <tr>\n",
       "      <th>2005-03-31</th>\n",
       "      <td>1902</td>\n",
       "      <td>78</td>\n",
       "    </tr>\n",
       "  </tbody>\n",
       "</table>\n",
       "<p>61 rows × 2 columns</p>\n",
       "</div>"
      ],
      "text/plain": [
       "            Revenue  Net Income\n",
       "Quarter                        \n",
       "2020-03-31    75452        2535\n",
       "2019-12-31    87437        3268\n",
       "2019-09-30    69981        2134\n",
       "2019-06-30    63404        2625\n",
       "2019-03-31    59700        3561\n",
       "...             ...         ...\n",
       "2006-03-31     2279          51\n",
       "2005-12-31     2977         199\n",
       "2005-09-30     1858          30\n",
       "2005-06-30     1753          52\n",
       "2005-03-31     1902          78\n",
       "\n",
       "[61 rows x 2 columns]"
      ]
     },
     "execution_count": 7,
     "metadata": {},
     "output_type": "execute_result"
    }
   ],
   "source": [
    "data"
   ]
  },
  {
   "cell_type": "markdown",
   "id": "bce0add2",
   "metadata": {},
   "source": [
    "# Identifying Stationarity\n",
    "\n",
    "1) Visualising the Data"
   ]
  },
  {
   "cell_type": "code",
   "execution_count": 8,
   "id": "fd7a20d4",
   "metadata": {},
   "outputs": [
    {
     "data": {
      "image/png": "[encoded data removed]",
      "text/plain": [
       "<Figure size 1600x640 with 1 Axes>"
      ]
     },
     "metadata": {
      "needs_background": "light"
     },
     "output_type": "display_data"
    }
   ],
   "source": [
    "#Plotting Revenue on the line plot.\n",
    "\n",
    "plt.figure(figsize=(20,8),dpi=80)\n",
    "plt.title(\"REVENUE OF AMAZON\",fontsize = 30)\n",
    "plt.xticks(fontsize=20)\n",
    "plt.yticks(fontsize=20)\n",
    "plt.plot(data.Revenue)\n",
    "plt.show()"
   ]
  },
  {
   "cell_type": "markdown",
   "id": "4fd6a09c",
   "metadata": {},
   "source": [
    "### The above graph is not stationary visually as the mean is not constant"
   ]
  },
  {
   "cell_type": "code",
   "execution_count": 9,
   "id": "b03a4b16",
   "metadata": {},
   "outputs": [
    {
     "data": {
      "image/png": "[encoded data removed]",
      "text/plain": [
       "<Figure size 2400x640 with 1 Axes>"
      ]
     },
     "metadata": {
      "needs_background": "light"
     },
     "output_type": "display_data"
    }
   ],
   "source": [
    "#Plotting the net income on line plot\n",
    "\n",
    "plt.figure(figsize=(30,8),dpi=80)\n",
    "plt.title(\"Net Income of Amazon\",fontsize=30)\n",
    "plt.xticks(fontsize = 20)\n",
    "plt.yticks(fontsize = 20)\n",
    "plt.plot(data['Net Income'])\n",
    "plt.show()"
   ]
  },
  {
   "cell_type": "markdown",
   "id": "edd2cb4a",
   "metadata": {},
   "source": [
    "### The above graph is not stationary visually as the mean, std. is not constant "
   ]
  },
  {
   "cell_type": "markdown",
   "id": "40dafef9",
   "metadata": {},
   "source": [
    "Performing the Statistical test \n",
    "\n",
    "1) KPSS test\n",
    "\n",
    "2) ADF test"
   ]
  },
  {
   "cell_type": "code",
   "execution_count": 10,
   "id": "5503470b",
   "metadata": {},
   "outputs": [],
   "source": [
    "#kpss test\n",
    "\n",
    "from statsmodels.tsa.stattools import kpss"
   ]
  },
  {
   "cell_type": "markdown",
   "id": "a99bec74",
   "metadata": {},
   "source": [
    "KPSS and ADF are both hypothesis statistical test. To perform it, we need to fix the statement.\n",
    "\n",
    "for KPSS, if the p value is less than 0.05, we would conclude that the Series is not Stationary.\n",
    "\n",
    "for ADF, if the p value is less than 0.05, we would conclude that the Series is Stationary."
   ]
  },
  {
   "cell_type": "code",
   "execution_count": 11,
   "id": "d0e6e198",
   "metadata": {},
   "outputs": [
    {
     "name": "stderr",
     "output_type": "stream",
     "text": [
      "/Users/ssameer/opt/anaconda3/lib/python3.9/site-packages/statsmodels/tsa/stattools.py:1875: FutureWarning: The behavior of using nlags=None will change in release 0.13.Currently nlags=None is the same as nlags=\"legacy\", and so a sample-size lag length is used. After the next release, the default will change to be the same as nlags=\"auto\" which uses an automatic lag length selection method. To silence this warning, either use \"auto\" or \"legacy\"\n",
      "  warnings.warn(msg, FutureWarning)\n"
     ]
    }
   ],
   "source": [
    "#if the data follows a trend, we woud use 'ct' function inside kpss.\n",
    "\n",
    "results = kpss(data['Revenue'],'ct')"
   ]
  },
  {
   "cell_type": "code",
   "execution_count": 12,
   "id": "8963f393",
   "metadata": {},
   "outputs": [
    {
     "data": {
      "text/plain": [
       "(0.1700516821083097,\n",
       " 0.029956931576408573,\n",
       " 11,\n",
       " {'10%': 0.119, '5%': 0.146, '2.5%': 0.176, '1%': 0.216})"
      ]
     },
     "execution_count": 12,
     "metadata": {},
     "output_type": "execute_result"
    }
   ],
   "source": [
    "results"
   ]
  },
  {
   "cell_type": "code",
   "execution_count": 13,
   "id": "a87443d3",
   "metadata": {},
   "outputs": [
    {
     "name": "stdout",
     "output_type": "stream",
     "text": [
      "Test Statistics: 0.1700516821083097\n",
      "p value: 0.029956931576408573\n",
      "Critical values:\n",
      " {'10%': 0.119, '5%': 0.146, '2.5%': 0.176, '1%': 0.216}\n",
      "The Series is not Stationary\n"
     ]
    }
   ],
   "source": [
    "print ('Test Statistics:', results[0])\n",
    "print('p value:',results[1])\n",
    "print('Critical values:\\n',results[3])\n",
    "\n",
    "\n",
    "p_value = results[1]\n",
    "\n",
    "\n",
    "\n",
    "if p_value < 0.05:\n",
    "     print('The Series is not Stationary')\n",
    "else:\n",
    "    print ('The Series is Stationary')\n"
   ]
  },
  {
   "cell_type": "code",
   "execution_count": 14,
   "id": "60fc57ab",
   "metadata": {},
   "outputs": [],
   "source": [
    "#Now performing kpss test on net income\n",
    "\n",
    "results = kpss(data['Net Income'])"
   ]
  },
  {
   "cell_type": "code",
   "execution_count": 15,
   "id": "8cb9a142",
   "metadata": {},
   "outputs": [
    {
     "name": "stdout",
     "output_type": "stream",
     "text": [
      "Test Statistics: 0.4072828364786965\n",
      "p value: 0.07401601875918254\n",
      "Critical values: \n",
      " {'10%': 0.347, '5%': 0.463, '2.5%': 0.574, '1%': 0.739}\n",
      "The Series is Stationary\n"
     ]
    }
   ],
   "source": [
    "print('Test Statistics:', results[0])\n",
    "print('p value:',results[1])\n",
    "print('Critical values: \\n',results[3])\n",
    "\n",
    "\n",
    "if results[1] < 0.05 :\n",
    "    print('The Series is not Stationary')\n",
    "else:\n",
    "    print(\"The Series is Stationary\")"
   ]
  },
  {
   "cell_type": "code",
   "execution_count": 16,
   "id": "507336be",
   "metadata": {},
   "outputs": [],
   "source": [
    "#Performing the ADF test\n",
    "\n",
    "from statsmodels.tsa.stattools import adfuller"
   ]
  },
  {
   "cell_type": "code",
   "execution_count": 17,
   "id": "1d775c0e",
   "metadata": {},
   "outputs": [],
   "source": [
    "results = adfuller(data['Revenue'])"
   ]
  },
  {
   "cell_type": "code",
   "execution_count": 18,
   "id": "b37b890e",
   "metadata": {},
   "outputs": [
    {
     "data": {
      "text/plain": [
       "(-2.4448360381972423,\n",
       " 0.12947943121838534,\n",
       " 10,\n",
       " 50,\n",
       " {'1%': -3.568485864, '5%': -2.92135992, '10%': -2.5986616},\n",
       " 753.7964652720992)"
      ]
     },
     "execution_count": 18,
     "metadata": {},
     "output_type": "execute_result"
    }
   ],
   "source": [
    "results"
   ]
  },
  {
   "cell_type": "code",
   "execution_count": 19,
   "id": "04080b57",
   "metadata": {},
   "outputs": [
    {
     "name": "stdout",
     "output_type": "stream",
     "text": [
      "Test Statistics: -2.4448360381972423\n",
      "p value: 0.12947943121838534\n",
      "Critical values:\n",
      " {'1%': -3.568485864, '5%': -2.92135992, '10%': -2.5986616}\n",
      "The Series is not Stationary\n"
     ]
    }
   ],
   "source": [
    "print ('Test Statistics:', results[0])\n",
    "print('p value:',results[1])\n",
    "print('Critical values:\\n',results[4])\n",
    "\n",
    "\n",
    "p_value = results[1]\n",
    "\n",
    "\n",
    "\n",
    "if p_value < 0.05:\n",
    "     print('The Series is Stationary')\n",
    "else:\n",
    "    print ('The Series is not Stationary')\n"
   ]
  },
  {
   "cell_type": "markdown",
   "id": "f344d4ea",
   "metadata": {},
   "source": [
    "# Converting Non-Stationary data into Stationary data.There is two methods to do so.\n",
    "\n",
    "1) Differencing \n",
    "\n",
    "2) Transforming\n",
    "\n"
   ]
  },
  {
   "cell_type": "code",
   "execution_count": 20,
   "id": "f482e3a6",
   "metadata": {},
   "outputs": [],
   "source": [
    "# Differencing is the concept of subtracting the current value with the previous value.\n",
    "\n",
    "data['REVENUE_DIFF'] = data['Revenue'] - data['Revenue'].shift(1)"
   ]
  },
  {
   "cell_type": "code",
   "execution_count": 21,
   "id": "080cdacf",
   "metadata": {},
   "outputs": [
    {
     "data": {
      "text/html": [
       "<div>\n",
       "<style scoped>\n",
       "    .dataframe tbody tr th:only-of-type {\n",
       "        vertical-align: middle;\n",
       "    }\n",
       "\n",
       "    .dataframe tbody tr th {\n",
       "        vertical-align: top;\n",
       "    }\n",
       "\n",
       "    .dataframe thead th {\n",
       "        text-align: right;\n",
       "    }\n",
       "</style>\n",
       "<table border=\"1\" class=\"dataframe\">\n",
       "  <thead>\n",
       "    <tr style=\"text-align: right;\">\n",
       "      <th></th>\n",
       "      <th>Revenue</th>\n",
       "      <th>Net Income</th>\n",
       "      <th>REVENUE_DIFF</th>\n",
       "    </tr>\n",
       "    <tr>\n",
       "      <th>Quarter</th>\n",
       "      <th></th>\n",
       "      <th></th>\n",
       "      <th></th>\n",
       "    </tr>\n",
       "  </thead>\n",
       "  <tbody>\n",
       "    <tr>\n",
       "      <th>2020-03-31</th>\n",
       "      <td>75452</td>\n",
       "      <td>2535</td>\n",
       "      <td>NaN</td>\n",
       "    </tr>\n",
       "    <tr>\n",
       "      <th>2019-12-31</th>\n",
       "      <td>87437</td>\n",
       "      <td>3268</td>\n",
       "      <td>11985.0</td>\n",
       "    </tr>\n",
       "    <tr>\n",
       "      <th>2019-09-30</th>\n",
       "      <td>69981</td>\n",
       "      <td>2134</td>\n",
       "      <td>-17456.0</td>\n",
       "    </tr>\n",
       "    <tr>\n",
       "      <th>2019-06-30</th>\n",
       "      <td>63404</td>\n",
       "      <td>2625</td>\n",
       "      <td>-6577.0</td>\n",
       "    </tr>\n",
       "    <tr>\n",
       "      <th>2019-03-31</th>\n",
       "      <td>59700</td>\n",
       "      <td>3561</td>\n",
       "      <td>-3704.0</td>\n",
       "    </tr>\n",
       "    <tr>\n",
       "      <th>...</th>\n",
       "      <td>...</td>\n",
       "      <td>...</td>\n",
       "      <td>...</td>\n",
       "    </tr>\n",
       "    <tr>\n",
       "      <th>2006-03-31</th>\n",
       "      <td>2279</td>\n",
       "      <td>51</td>\n",
       "      <td>140.0</td>\n",
       "    </tr>\n",
       "    <tr>\n",
       "      <th>2005-12-31</th>\n",
       "      <td>2977</td>\n",
       "      <td>199</td>\n",
       "      <td>698.0</td>\n",
       "    </tr>\n",
       "    <tr>\n",
       "      <th>2005-09-30</th>\n",
       "      <td>1858</td>\n",
       "      <td>30</td>\n",
       "      <td>-1119.0</td>\n",
       "    </tr>\n",
       "    <tr>\n",
       "      <th>2005-06-30</th>\n",
       "      <td>1753</td>\n",
       "      <td>52</td>\n",
       "      <td>-105.0</td>\n",
       "    </tr>\n",
       "    <tr>\n",
       "      <th>2005-03-31</th>\n",
       "      <td>1902</td>\n",
       "      <td>78</td>\n",
       "      <td>149.0</td>\n",
       "    </tr>\n",
       "  </tbody>\n",
       "</table>\n",
       "<p>61 rows × 3 columns</p>\n",
       "</div>"
      ],
      "text/plain": [
       "            Revenue  Net Income  REVENUE_DIFF\n",
       "Quarter                                      \n",
       "2020-03-31    75452        2535           NaN\n",
       "2019-12-31    87437        3268       11985.0\n",
       "2019-09-30    69981        2134      -17456.0\n",
       "2019-06-30    63404        2625       -6577.0\n",
       "2019-03-31    59700        3561       -3704.0\n",
       "...             ...         ...           ...\n",
       "2006-03-31     2279          51         140.0\n",
       "2005-12-31     2977         199         698.0\n",
       "2005-09-30     1858          30       -1119.0\n",
       "2005-06-30     1753          52        -105.0\n",
       "2005-03-31     1902          78         149.0\n",
       "\n",
       "[61 rows x 3 columns]"
      ]
     },
     "execution_count": 21,
     "metadata": {},
     "output_type": "execute_result"
    }
   ],
   "source": [
    "data"
   ]
  },
  {
   "cell_type": "code",
   "execution_count": 22,
   "id": "eb9e9610",
   "metadata": {},
   "outputs": [],
   "source": [
    "#Lets perform ADF test on the differenced data\n",
    "\n",
    "results = adfuller(data['REVENUE_DIFF'].dropna())"
   ]
  },
  {
   "cell_type": "code",
   "execution_count": 23,
   "id": "29d7b401",
   "metadata": {},
   "outputs": [
    {
     "name": "stdout",
     "output_type": "stream",
     "text": [
      "Test Statistics: -4.835839517045719\n",
      "p value: 4.6420450374722026e-05\n",
      "Critical values:\n",
      " {'1%': -3.5745892596209488, '5%': -2.9239543084490744, '10%': -2.6000391840277777}\n",
      "The Series is Stationary\n"
     ]
    }
   ],
   "source": [
    "print ('Test Statistics:', results[0])\n",
    "print('p value:',results[1])\n",
    "print('Critical values:\\n',results[4])\n",
    "\n",
    "\n",
    "p_value = results[1]\n",
    "\n",
    "\n",
    "\n",
    "if p_value < 0.05:\n",
    "     print('The Series is Stationary')\n",
    "else:\n",
    "    print ('The Series is not Stationary')\n"
   ]
  },
  {
   "cell_type": "markdown",
   "id": "9152a5b3",
   "metadata": {},
   "source": [
    "### Transformation is changing the data using maths calculations\n",
    "\n",
    "    1) log transformation\n",
    "    2) sqrt transformation\n",
    "    3) Cube root transformation"
   ]
  },
  {
   "cell_type": "code",
   "execution_count": 24,
   "id": "549ca512",
   "metadata": {},
   "outputs": [],
   "source": [
    "# log transformation\n",
    "\n",
    "data['REVENUE_LOG'] = np.log(data['Revenue'])"
   ]
  },
  {
   "cell_type": "code",
   "execution_count": 25,
   "id": "26befb6c",
   "metadata": {},
   "outputs": [
    {
     "data": {
      "text/html": [
       "<div>\n",
       "<style scoped>\n",
       "    .dataframe tbody tr th:only-of-type {\n",
       "        vertical-align: middle;\n",
       "    }\n",
       "\n",
       "    .dataframe tbody tr th {\n",
       "        vertical-align: top;\n",
       "    }\n",
       "\n",
       "    .dataframe thead th {\n",
       "        text-align: right;\n",
       "    }\n",
       "</style>\n",
       "<table border=\"1\" class=\"dataframe\">\n",
       "  <thead>\n",
       "    <tr style=\"text-align: right;\">\n",
       "      <th></th>\n",
       "      <th>Revenue</th>\n",
       "      <th>Net Income</th>\n",
       "      <th>REVENUE_DIFF</th>\n",
       "      <th>REVENUE_LOG</th>\n",
       "    </tr>\n",
       "    <tr>\n",
       "      <th>Quarter</th>\n",
       "      <th></th>\n",
       "      <th></th>\n",
       "      <th></th>\n",
       "      <th></th>\n",
       "    </tr>\n",
       "  </thead>\n",
       "  <tbody>\n",
       "    <tr>\n",
       "      <th>2020-03-31</th>\n",
       "      <td>75452</td>\n",
       "      <td>2535</td>\n",
       "      <td>NaN</td>\n",
       "      <td>11.231252</td>\n",
       "    </tr>\n",
       "    <tr>\n",
       "      <th>2019-12-31</th>\n",
       "      <td>87437</td>\n",
       "      <td>3268</td>\n",
       "      <td>11985.0</td>\n",
       "      <td>11.378674</td>\n",
       "    </tr>\n",
       "    <tr>\n",
       "      <th>2019-09-30</th>\n",
       "      <td>69981</td>\n",
       "      <td>2134</td>\n",
       "      <td>-17456.0</td>\n",
       "      <td>11.155979</td>\n",
       "    </tr>\n",
       "    <tr>\n",
       "      <th>2019-06-30</th>\n",
       "      <td>63404</td>\n",
       "      <td>2625</td>\n",
       "      <td>-6577.0</td>\n",
       "      <td>11.057282</td>\n",
       "    </tr>\n",
       "    <tr>\n",
       "      <th>2019-03-31</th>\n",
       "      <td>59700</td>\n",
       "      <td>3561</td>\n",
       "      <td>-3704.0</td>\n",
       "      <td>10.997087</td>\n",
       "    </tr>\n",
       "    <tr>\n",
       "      <th>...</th>\n",
       "      <td>...</td>\n",
       "      <td>...</td>\n",
       "      <td>...</td>\n",
       "      <td>...</td>\n",
       "    </tr>\n",
       "    <tr>\n",
       "      <th>2006-03-31</th>\n",
       "      <td>2279</td>\n",
       "      <td>51</td>\n",
       "      <td>140.0</td>\n",
       "      <td>7.731492</td>\n",
       "    </tr>\n",
       "    <tr>\n",
       "      <th>2005-12-31</th>\n",
       "      <td>2977</td>\n",
       "      <td>199</td>\n",
       "      <td>698.0</td>\n",
       "      <td>7.998671</td>\n",
       "    </tr>\n",
       "    <tr>\n",
       "      <th>2005-09-30</th>\n",
       "      <td>1858</td>\n",
       "      <td>30</td>\n",
       "      <td>-1119.0</td>\n",
       "      <td>7.527256</td>\n",
       "    </tr>\n",
       "    <tr>\n",
       "      <th>2005-06-30</th>\n",
       "      <td>1753</td>\n",
       "      <td>52</td>\n",
       "      <td>-105.0</td>\n",
       "      <td>7.469084</td>\n",
       "    </tr>\n",
       "    <tr>\n",
       "      <th>2005-03-31</th>\n",
       "      <td>1902</td>\n",
       "      <td>78</td>\n",
       "      <td>149.0</td>\n",
       "      <td>7.550661</td>\n",
       "    </tr>\n",
       "  </tbody>\n",
       "</table>\n",
       "<p>61 rows × 4 columns</p>\n",
       "</div>"
      ],
      "text/plain": [
       "            Revenue  Net Income  REVENUE_DIFF  REVENUE_LOG\n",
       "Quarter                                                   \n",
       "2020-03-31    75452        2535           NaN    11.231252\n",
       "2019-12-31    87437        3268       11985.0    11.378674\n",
       "2019-09-30    69981        2134      -17456.0    11.155979\n",
       "2019-06-30    63404        2625       -6577.0    11.057282\n",
       "2019-03-31    59700        3561       -3704.0    10.997087\n",
       "...             ...         ...           ...          ...\n",
       "2006-03-31     2279          51         140.0     7.731492\n",
       "2005-12-31     2977         199         698.0     7.998671\n",
       "2005-09-30     1858          30       -1119.0     7.527256\n",
       "2005-06-30     1753          52        -105.0     7.469084\n",
       "2005-03-31     1902          78         149.0     7.550661\n",
       "\n",
       "[61 rows x 4 columns]"
      ]
     },
     "execution_count": 25,
     "metadata": {},
     "output_type": "execute_result"
    }
   ],
   "source": [
    "data"
   ]
  },
  {
   "cell_type": "code",
   "execution_count": 26,
   "id": "badadba4",
   "metadata": {},
   "outputs": [],
   "source": [
    "results = adfuller(data['REVENUE_LOG'])"
   ]
  },
  {
   "cell_type": "code",
   "execution_count": 27,
   "id": "dd188cc9",
   "metadata": {},
   "outputs": [
    {
     "data": {
      "text/plain": [
       "(0.6199209056495228,\n",
       " 0.9880964902971826,\n",
       " 5,\n",
       " 55,\n",
       " {'1%': -3.5552728880540942,\n",
       "  '5%': -2.9157312396694217,\n",
       "  '10%': -2.5956695041322315},\n",
       " -171.78499346500703)"
      ]
     },
     "execution_count": 27,
     "metadata": {},
     "output_type": "execute_result"
    }
   ],
   "source": [
    "results"
   ]
  },
  {
   "cell_type": "code",
   "execution_count": 28,
   "id": "d90caf81",
   "metadata": {},
   "outputs": [
    {
     "name": "stdout",
     "output_type": "stream",
     "text": [
      "Test Statistics: 0.6199209056495228\n",
      "p value: 0.9880964902971826\n",
      "Critical values:\n",
      " {'1%': -3.5552728880540942, '5%': -2.9157312396694217, '10%': -2.5956695041322315}\n",
      "The Series is not Stationary\n"
     ]
    }
   ],
   "source": [
    "print ('Test Statistics:', results[0])\n",
    "print('p value:',results[1])\n",
    "print('Critical values:\\n',results[4])\n",
    "\n",
    "\n",
    "p_value = results[1]\n",
    "\n",
    "\n",
    "\n",
    "if p_value < 0.05:\n",
    "     print('The Series is Stationary')\n",
    "else:\n",
    "    print ('The Series is not Stationary')\n"
   ]
  },
  {
   "cell_type": "code",
   "execution_count": 29,
   "id": "5f3ed4ef",
   "metadata": {},
   "outputs": [
    {
     "data": {
      "text/html": [
       "<div>\n",
       "<style scoped>\n",
       "    .dataframe tbody tr th:only-of-type {\n",
       "        vertical-align: middle;\n",
       "    }\n",
       "\n",
       "    .dataframe tbody tr th {\n",
       "        vertical-align: top;\n",
       "    }\n",
       "\n",
       "    .dataframe thead th {\n",
       "        text-align: right;\n",
       "    }\n",
       "</style>\n",
       "<table border=\"1\" class=\"dataframe\">\n",
       "  <thead>\n",
       "    <tr style=\"text-align: right;\">\n",
       "      <th></th>\n",
       "      <th>Revenue</th>\n",
       "      <th>Net Income</th>\n",
       "      <th>REVENUE_DIFF</th>\n",
       "      <th>REVENUE_LOG</th>\n",
       "      <th>REVENUE_SQRT</th>\n",
       "    </tr>\n",
       "    <tr>\n",
       "      <th>Quarter</th>\n",
       "      <th></th>\n",
       "      <th></th>\n",
       "      <th></th>\n",
       "      <th></th>\n",
       "      <th></th>\n",
       "    </tr>\n",
       "  </thead>\n",
       "  <tbody>\n",
       "    <tr>\n",
       "      <th>2020-03-31</th>\n",
       "      <td>75452</td>\n",
       "      <td>2535</td>\n",
       "      <td>NaN</td>\n",
       "      <td>11.231252</td>\n",
       "      <td>274.685274</td>\n",
       "    </tr>\n",
       "    <tr>\n",
       "      <th>2019-12-31</th>\n",
       "      <td>87437</td>\n",
       "      <td>3268</td>\n",
       "      <td>11985.0</td>\n",
       "      <td>11.378674</td>\n",
       "      <td>295.697481</td>\n",
       "    </tr>\n",
       "    <tr>\n",
       "      <th>2019-09-30</th>\n",
       "      <td>69981</td>\n",
       "      <td>2134</td>\n",
       "      <td>-17456.0</td>\n",
       "      <td>11.155979</td>\n",
       "      <td>264.539222</td>\n",
       "    </tr>\n",
       "    <tr>\n",
       "      <th>2019-06-30</th>\n",
       "      <td>63404</td>\n",
       "      <td>2625</td>\n",
       "      <td>-6577.0</td>\n",
       "      <td>11.057282</td>\n",
       "      <td>251.801509</td>\n",
       "    </tr>\n",
       "    <tr>\n",
       "      <th>2019-03-31</th>\n",
       "      <td>59700</td>\n",
       "      <td>3561</td>\n",
       "      <td>-3704.0</td>\n",
       "      <td>10.997087</td>\n",
       "      <td>244.335834</td>\n",
       "    </tr>\n",
       "    <tr>\n",
       "      <th>...</th>\n",
       "      <td>...</td>\n",
       "      <td>...</td>\n",
       "      <td>...</td>\n",
       "      <td>...</td>\n",
       "      <td>...</td>\n",
       "    </tr>\n",
       "    <tr>\n",
       "      <th>2006-03-31</th>\n",
       "      <td>2279</td>\n",
       "      <td>51</td>\n",
       "      <td>140.0</td>\n",
       "      <td>7.731492</td>\n",
       "      <td>47.738873</td>\n",
       "    </tr>\n",
       "    <tr>\n",
       "      <th>2005-12-31</th>\n",
       "      <td>2977</td>\n",
       "      <td>199</td>\n",
       "      <td>698.0</td>\n",
       "      <td>7.998671</td>\n",
       "      <td>54.561891</td>\n",
       "    </tr>\n",
       "    <tr>\n",
       "      <th>2005-09-30</th>\n",
       "      <td>1858</td>\n",
       "      <td>30</td>\n",
       "      <td>-1119.0</td>\n",
       "      <td>7.527256</td>\n",
       "      <td>43.104524</td>\n",
       "    </tr>\n",
       "    <tr>\n",
       "      <th>2005-06-30</th>\n",
       "      <td>1753</td>\n",
       "      <td>52</td>\n",
       "      <td>-105.0</td>\n",
       "      <td>7.469084</td>\n",
       "      <td>41.868843</td>\n",
       "    </tr>\n",
       "    <tr>\n",
       "      <th>2005-03-31</th>\n",
       "      <td>1902</td>\n",
       "      <td>78</td>\n",
       "      <td>149.0</td>\n",
       "      <td>7.550661</td>\n",
       "      <td>43.611925</td>\n",
       "    </tr>\n",
       "  </tbody>\n",
       "</table>\n",
       "<p>61 rows × 5 columns</p>\n",
       "</div>"
      ],
      "text/plain": [
       "            Revenue  Net Income  REVENUE_DIFF  REVENUE_LOG  REVENUE_SQRT\n",
       "Quarter                                                                 \n",
       "2020-03-31    75452        2535           NaN    11.231252    274.685274\n",
       "2019-12-31    87437        3268       11985.0    11.378674    295.697481\n",
       "2019-09-30    69981        2134      -17456.0    11.155979    264.539222\n",
       "2019-06-30    63404        2625       -6577.0    11.057282    251.801509\n",
       "2019-03-31    59700        3561       -3704.0    10.997087    244.335834\n",
       "...             ...         ...           ...          ...           ...\n",
       "2006-03-31     2279          51         140.0     7.731492     47.738873\n",
       "2005-12-31     2977         199         698.0     7.998671     54.561891\n",
       "2005-09-30     1858          30       -1119.0     7.527256     43.104524\n",
       "2005-06-30     1753          52        -105.0     7.469084     41.868843\n",
       "2005-03-31     1902          78         149.0     7.550661     43.611925\n",
       "\n",
       "[61 rows x 5 columns]"
      ]
     },
     "execution_count": 29,
     "metadata": {},
     "output_type": "execute_result"
    }
   ],
   "source": [
    "#sqrt transformation\n",
    "\n",
    "data['REVENUE_SQRT'] = np.sqrt(data['Revenue'])\n",
    "data"
   ]
  },
  {
   "cell_type": "code",
   "execution_count": 30,
   "id": "43bc64e3",
   "metadata": {},
   "outputs": [],
   "source": [
    "results = adfuller(data['REVENUE_SQRT'])"
   ]
  },
  {
   "cell_type": "code",
   "execution_count": 31,
   "id": "f3911946",
   "metadata": {},
   "outputs": [
    {
     "name": "stdout",
     "output_type": "stream",
     "text": [
      "Test Statistics: -4.189229808832677\n",
      "p value: 0.0006871127081471011\n",
      "Critical values:\n",
      " {'1%': -3.5552728880540942, '5%': -2.9157312396694217, '10%': -2.5956695041322315}\n",
      "The Series is Stationary\n"
     ]
    }
   ],
   "source": [
    "print ('Test Statistics:', results[0])\n",
    "print('p value:',results[1])\n",
    "print('Critical values:\\n',results[4])\n",
    "\n",
    "\n",
    "p_value = results[1]\n",
    "\n",
    "\n",
    "\n",
    "if p_value < 0.05:\n",
    "     print('The Series is Stationary')\n",
    "else:\n",
    "    print ('The Series is not Stationary')\n"
   ]
  },
  {
   "cell_type": "code",
   "execution_count": 32,
   "id": "bb452ff6",
   "metadata": {},
   "outputs": [
    {
     "data": {
      "text/html": [
       "<div>\n",
       "<style scoped>\n",
       "    .dataframe tbody tr th:only-of-type {\n",
       "        vertical-align: middle;\n",
       "    }\n",
       "\n",
       "    .dataframe tbody tr th {\n",
       "        vertical-align: top;\n",
       "    }\n",
       "\n",
       "    .dataframe thead th {\n",
       "        text-align: right;\n",
       "    }\n",
       "</style>\n",
       "<table border=\"1\" class=\"dataframe\">\n",
       "  <thead>\n",
       "    <tr style=\"text-align: right;\">\n",
       "      <th></th>\n",
       "      <th>Revenue</th>\n",
       "      <th>Net Income</th>\n",
       "      <th>REVENUE_DIFF</th>\n",
       "      <th>REVENUE_LOG</th>\n",
       "      <th>REVENUE_SQRT</th>\n",
       "      <th>REVENUE_CUBE</th>\n",
       "    </tr>\n",
       "    <tr>\n",
       "      <th>Quarter</th>\n",
       "      <th></th>\n",
       "      <th></th>\n",
       "      <th></th>\n",
       "      <th></th>\n",
       "      <th></th>\n",
       "      <th></th>\n",
       "    </tr>\n",
       "  </thead>\n",
       "  <tbody>\n",
       "    <tr>\n",
       "      <th>2020-03-31</th>\n",
       "      <td>75452</td>\n",
       "      <td>2535</td>\n",
       "      <td>NaN</td>\n",
       "      <td>11.231252</td>\n",
       "      <td>274.685274</td>\n",
       "      <td>42.256182</td>\n",
       "    </tr>\n",
       "    <tr>\n",
       "      <th>2019-12-31</th>\n",
       "      <td>87437</td>\n",
       "      <td>3268</td>\n",
       "      <td>11985.0</td>\n",
       "      <td>11.378674</td>\n",
       "      <td>295.697481</td>\n",
       "      <td>44.384543</td>\n",
       "    </tr>\n",
       "    <tr>\n",
       "      <th>2019-09-30</th>\n",
       "      <td>69981</td>\n",
       "      <td>2134</td>\n",
       "      <td>-17456.0</td>\n",
       "      <td>11.155979</td>\n",
       "      <td>264.539222</td>\n",
       "      <td>41.209124</td>\n",
       "    </tr>\n",
       "    <tr>\n",
       "      <th>2019-06-30</th>\n",
       "      <td>63404</td>\n",
       "      <td>2625</td>\n",
       "      <td>-6577.0</td>\n",
       "      <td>11.057282</td>\n",
       "      <td>251.801509</td>\n",
       "      <td>39.875446</td>\n",
       "    </tr>\n",
       "    <tr>\n",
       "      <th>2019-03-31</th>\n",
       "      <td>59700</td>\n",
       "      <td>3561</td>\n",
       "      <td>-3704.0</td>\n",
       "      <td>10.997087</td>\n",
       "      <td>244.335834</td>\n",
       "      <td>39.083320</td>\n",
       "    </tr>\n",
       "    <tr>\n",
       "      <th>...</th>\n",
       "      <td>...</td>\n",
       "      <td>...</td>\n",
       "      <td>...</td>\n",
       "      <td>...</td>\n",
       "      <td>...</td>\n",
       "      <td>...</td>\n",
       "    </tr>\n",
       "    <tr>\n",
       "      <th>2006-03-31</th>\n",
       "      <td>2279</td>\n",
       "      <td>51</td>\n",
       "      <td>140.0</td>\n",
       "      <td>7.731492</td>\n",
       "      <td>47.738873</td>\n",
       "      <td>13.159764</td>\n",
       "    </tr>\n",
       "    <tr>\n",
       "      <th>2005-12-31</th>\n",
       "      <td>2977</td>\n",
       "      <td>199</td>\n",
       "      <td>698.0</td>\n",
       "      <td>7.998671</td>\n",
       "      <td>54.561891</td>\n",
       "      <td>14.385544</td>\n",
       "    </tr>\n",
       "    <tr>\n",
       "      <th>2005-09-30</th>\n",
       "      <td>1858</td>\n",
       "      <td>30</td>\n",
       "      <td>-1119.0</td>\n",
       "      <td>7.527256</td>\n",
       "      <td>43.104524</td>\n",
       "      <td>12.293680</td>\n",
       "    </tr>\n",
       "    <tr>\n",
       "      <th>2005-06-30</th>\n",
       "      <td>1753</td>\n",
       "      <td>52</td>\n",
       "      <td>-105.0</td>\n",
       "      <td>7.469084</td>\n",
       "      <td>41.868843</td>\n",
       "      <td>12.057594</td>\n",
       "    </tr>\n",
       "    <tr>\n",
       "      <th>2005-03-31</th>\n",
       "      <td>1902</td>\n",
       "      <td>78</td>\n",
       "      <td>149.0</td>\n",
       "      <td>7.550661</td>\n",
       "      <td>43.611925</td>\n",
       "      <td>12.389968</td>\n",
       "    </tr>\n",
       "  </tbody>\n",
       "</table>\n",
       "<p>61 rows × 6 columns</p>\n",
       "</div>"
      ],
      "text/plain": [
       "            Revenue  Net Income  REVENUE_DIFF  REVENUE_LOG  REVENUE_SQRT  \\\n",
       "Quarter                                                                    \n",
       "2020-03-31    75452        2535           NaN    11.231252    274.685274   \n",
       "2019-12-31    87437        3268       11985.0    11.378674    295.697481   \n",
       "2019-09-30    69981        2134      -17456.0    11.155979    264.539222   \n",
       "2019-06-30    63404        2625       -6577.0    11.057282    251.801509   \n",
       "2019-03-31    59700        3561       -3704.0    10.997087    244.335834   \n",
       "...             ...         ...           ...          ...           ...   \n",
       "2006-03-31     2279          51         140.0     7.731492     47.738873   \n",
       "2005-12-31     2977         199         698.0     7.998671     54.561891   \n",
       "2005-09-30     1858          30       -1119.0     7.527256     43.104524   \n",
       "2005-06-30     1753          52        -105.0     7.469084     41.868843   \n",
       "2005-03-31     1902          78         149.0     7.550661     43.611925   \n",
       "\n",
       "            REVENUE_CUBE  \n",
       "Quarter                   \n",
       "2020-03-31     42.256182  \n",
       "2019-12-31     44.384543  \n",
       "2019-09-30     41.209124  \n",
       "2019-06-30     39.875446  \n",
       "2019-03-31     39.083320  \n",
       "...                  ...  \n",
       "2006-03-31     13.159764  \n",
       "2005-12-31     14.385544  \n",
       "2005-09-30     12.293680  \n",
       "2005-06-30     12.057594  \n",
       "2005-03-31     12.389968  \n",
       "\n",
       "[61 rows x 6 columns]"
      ]
     },
     "execution_count": 32,
     "metadata": {},
     "output_type": "execute_result"
    }
   ],
   "source": [
    "# Cube root\n",
    "\n",
    "data['REVENUE_CUBE'] = np.cbrt(data['Revenue'])\n",
    "data"
   ]
  },
  {
   "cell_type": "code",
   "execution_count": 33,
   "id": "5d31c09e",
   "metadata": {},
   "outputs": [],
   "source": [
    "results = adfuller(data['REVENUE_CUBE'])"
   ]
  },
  {
   "cell_type": "code",
   "execution_count": 34,
   "id": "8ab1b854",
   "metadata": {},
   "outputs": [
    {
     "name": "stdout",
     "output_type": "stream",
     "text": [
      "Test Statistics: -3.351632311341066\n",
      "p value: 0.01272246739548374\n",
      "Critical values:\n",
      " {'1%': -3.5552728880540942, '5%': -2.9157312396694217, '10%': -2.5956695041322315}\n",
      "The Series is Stationary\n"
     ]
    }
   ],
   "source": [
    "print ('Test Statistics:', results[0])\n",
    "print('p value:',results[1])\n",
    "print('Critical values:\\n',results[4])\n",
    "\n",
    "\n",
    "p_value = results[1]\n",
    "\n",
    "\n",
    "\n",
    "if p_value < 0.05:\n",
    "     print('The Series is Stationary')\n",
    "else:\n",
    "    print ('The Series is not Stationary')\n"
   ]
  },
  {
   "cell_type": "markdown",
   "id": "de19d0b3",
   "metadata": {},
   "source": [
    "# We can use any transformation to convert the non-stationary series into stationary data series log,sqrt,cube root ...if any one of these convert in into stationary series ...that is totally fine."
   ]
  },
  {
   "cell_type": "code",
   "execution_count": null,
   "id": "50fca4eb",
   "metadata": {},
   "outputs": [],
   "source": []
  }
 ],
 "metadata": {
  "kernelspec": {
   "display_name": "Python 3 (ipykernel)",
   "language": "python",
   "name": "python3"
  },
  "language_info": {
   "codemirror_mode": {
    "name": "ipython",
    "version": 3
   },
   "file_extension": ".py",
   "mimetype": "text/x-python",
   "name": "python",
   "nbconvert_exporter": "python",
   "pygments_lexer": "ipython3",
   "version": "3.9.7"
  }
 },
 "nbformat": 4,
 "nbformat_minor": 5
}
