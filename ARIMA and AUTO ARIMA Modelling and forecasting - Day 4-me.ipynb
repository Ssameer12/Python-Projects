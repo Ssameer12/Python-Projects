{
 "cells": [
  {
   "cell_type": "code",
   "execution_count": 85,
   "id": "d9be4ae4",
   "metadata": {},
   "outputs": [],
   "source": [
    "import pandas as pd\n",
    "import matplotlib.pyplot as plt"
   ]
  },
  {
   "cell_type": "code",
   "execution_count": 86,
   "id": "96b2dcfc",
   "metadata": {},
   "outputs": [
    {
     "data": {
      "text/html": [
       "<div>\n",
       "<style scoped>\n",
       "    .dataframe tbody tr th:only-of-type {\n",
       "        vertical-align: middle;\n",
       "    }\n",
       "\n",
       "    .dataframe tbody tr th {\n",
       "        vertical-align: top;\n",
       "    }\n",
       "\n",
       "    .dataframe thead th {\n",
       "        text-align: right;\n",
       "    }\n",
       "</style>\n",
       "<table border=\"1\" class=\"dataframe\">\n",
       "  <thead>\n",
       "    <tr style=\"text-align: right;\">\n",
       "      <th></th>\n",
       "      <th>Month</th>\n",
       "      <th>Thousands of Passengers</th>\n",
       "    </tr>\n",
       "  </thead>\n",
       "  <tbody>\n",
       "    <tr>\n",
       "      <th>0</th>\n",
       "      <td>1949-01</td>\n",
       "      <td>112</td>\n",
       "    </tr>\n",
       "    <tr>\n",
       "      <th>1</th>\n",
       "      <td>1949-02</td>\n",
       "      <td>118</td>\n",
       "    </tr>\n",
       "    <tr>\n",
       "      <th>2</th>\n",
       "      <td>1949-03</td>\n",
       "      <td>132</td>\n",
       "    </tr>\n",
       "    <tr>\n",
       "      <th>3</th>\n",
       "      <td>1949-04</td>\n",
       "      <td>129</td>\n",
       "    </tr>\n",
       "    <tr>\n",
       "      <th>4</th>\n",
       "      <td>1949-05</td>\n",
       "      <td>121</td>\n",
       "    </tr>\n",
       "  </tbody>\n",
       "</table>\n",
       "</div>"
      ],
      "text/plain": [
       "     Month  Thousands of Passengers\n",
       "0  1949-01                      112\n",
       "1  1949-02                      118\n",
       "2  1949-03                      132\n",
       "3  1949-04                      129\n",
       "4  1949-05                      121"
      ]
     },
     "execution_count": 86,
     "metadata": {},
     "output_type": "execute_result"
    }
   ],
   "source": [
    "air = pd.read_csv('./airline_passengers.csv')\n",
    "air.head()"
   ]
  },
  {
   "cell_type": "markdown",
   "id": "fd01c88e",
   "metadata": {},
   "source": [
    "# Time Series Forecasting\n",
    "\n",
    "Aim: Using the past data related to time to predict the future data points.\n",
    "    \n",
    "Assumption: Past behaviour will influence the on the future behaviour.\n",
    "    \n",
    "Steps in forecasting \n",
    "\n",
    "1) Import the required package then import the data.\n",
    "\n",
    "2) Identify the date column, and convert it into datetime64 format.\n",
    "\n",
    "3) Convert the date column into index.\n",
    "\n",
    "4) Check for any missing values in the data.\n",
    "\n",
    "5) Replace missing values with (ffill or bfill)\n",
    "\n",
    "6) Identifying the stationarity in the Series.\n",
    "\n",
    "   * Visualisation (least recommended) \n",
    "   \n",
    "   * Statistical test (ADF,KPSS) based on p-value we would conclude.\n",
    "   \n",
    "7) Converting stationry data into non stationary data.\n",
    "\n",
    "   * Differencing\n",
    "   \n",
    "   * Transformation -log, sqrt, cbrt\n",
    "   "
   ]
  },
  {
   "cell_type": "markdown",
   "id": "c897ea5a",
   "metadata": {},
   "source": [
    "## ARIMA model"
   ]
  },
  {
   "cell_type": "markdown",
   "id": "0428c997",
   "metadata": {},
   "source": [
    "Arima is a model which is used for time series forecasting. There is 3 major components in ARIMA modelling.\n",
    "\n",
    "1) AR - Auto regressive Component\n",
    "\n",
    "2) I - Integrated (How many times we are differencing to make the data Stationary.)\n",
    "\n",
    "3) MA - Moving Average Component \n",
    "\n",
    "Atime series data using ARIMA modelcan be forecasted into 2 ways. Regression and Moving Average.\n",
    "\n",
    "Regression - It is the forecasting values basrd on previous input vaues\n",
    "        \n",
    "        \n",
    "            Y = mX + C + e \n",
    "\n",
    "Moving Average - It is forecasting the values based on previous residuals (Error)\n",
    "\n",
    "\n",
    "           Y= m(Error(t)) + C + e (t-1) \n",
    "\n",
    "\n",
    "(p,d,q)\n",
    "\n",
    "where p = AR\n",
    "\n",
    "      d =I\n",
    "      \n",
    "      q =MA \n",
    "   (p,1,q)   "
   ]
  },
  {
   "cell_type": "code",
   "execution_count": 87,
   "id": "74cb7d30",
   "metadata": {
    "scrolled": true
   },
   "outputs": [
    {
     "name": "stdout",
     "output_type": "stream",
     "text": [
      "<class 'pandas.core.frame.DataFrame'>\n",
      "RangeIndex: 144 entries, 0 to 143\n",
      "Data columns (total 2 columns):\n",
      " #   Column                   Non-Null Count  Dtype \n",
      "---  ------                   --------------  ----- \n",
      " 0   Month                    144 non-null    object\n",
      " 1   Thousands of Passengers  144 non-null    int64 \n",
      "dtypes: int64(1), object(1)\n",
      "memory usage: 2.4+ KB\n"
     ]
    }
   ],
   "source": [
    "air.info() #No missing values in dataset"
   ]
  },
  {
   "cell_type": "code",
   "execution_count": 88,
   "id": "6ec28a11",
   "metadata": {},
   "outputs": [
    {
     "data": {
      "text/html": [
       "<div>\n",
       "<style scoped>\n",
       "    .dataframe tbody tr th:only-of-type {\n",
       "        vertical-align: middle;\n",
       "    }\n",
       "\n",
       "    .dataframe tbody tr th {\n",
       "        vertical-align: top;\n",
       "    }\n",
       "\n",
       "    .dataframe thead th {\n",
       "        text-align: right;\n",
       "    }\n",
       "</style>\n",
       "<table border=\"1\" class=\"dataframe\">\n",
       "  <thead>\n",
       "    <tr style=\"text-align: right;\">\n",
       "      <th></th>\n",
       "      <th>Month</th>\n",
       "      <th>Thousands of Passengers</th>\n",
       "    </tr>\n",
       "  </thead>\n",
       "  <tbody>\n",
       "    <tr>\n",
       "      <th>0</th>\n",
       "      <td>1949-01-01</td>\n",
       "      <td>112</td>\n",
       "    </tr>\n",
       "    <tr>\n",
       "      <th>1</th>\n",
       "      <td>1949-02-01</td>\n",
       "      <td>118</td>\n",
       "    </tr>\n",
       "    <tr>\n",
       "      <th>2</th>\n",
       "      <td>1949-03-01</td>\n",
       "      <td>132</td>\n",
       "    </tr>\n",
       "    <tr>\n",
       "      <th>3</th>\n",
       "      <td>1949-04-01</td>\n",
       "      <td>129</td>\n",
       "    </tr>\n",
       "    <tr>\n",
       "      <th>4</th>\n",
       "      <td>1949-05-01</td>\n",
       "      <td>121</td>\n",
       "    </tr>\n",
       "  </tbody>\n",
       "</table>\n",
       "</div>"
      ],
      "text/plain": [
       "       Month  Thousands of Passengers\n",
       "0 1949-01-01                      112\n",
       "1 1949-02-01                      118\n",
       "2 1949-03-01                      132\n",
       "3 1949-04-01                      129\n",
       "4 1949-05-01                      121"
      ]
     },
     "execution_count": 88,
     "metadata": {},
     "output_type": "execute_result"
    }
   ],
   "source": [
    "air = pd.read_csv('./airline_passengers.csv',parse_dates=['Month'])\n",
    "air.head()"
   ]
  },
  {
   "cell_type": "code",
   "execution_count": 89,
   "id": "707fadd8",
   "metadata": {
    "scrolled": true
   },
   "outputs": [
    {
     "name": "stdout",
     "output_type": "stream",
     "text": [
      "<class 'pandas.core.frame.DataFrame'>\n",
      "RangeIndex: 144 entries, 0 to 143\n",
      "Data columns (total 2 columns):\n",
      " #   Column                   Non-Null Count  Dtype         \n",
      "---  ------                   --------------  -----         \n",
      " 0   Month                    144 non-null    datetime64[ns]\n",
      " 1   Thousands of Passengers  144 non-null    int64         \n",
      "dtypes: datetime64[ns](1), int64(1)\n",
      "memory usage: 2.4 KB\n"
     ]
    }
   ],
   "source": [
    "# converted object into datetime64 format.\n",
    "    \n",
    "air.info()"
   ]
  },
  {
   "cell_type": "code",
   "execution_count": 90,
   "id": "d863c662",
   "metadata": {},
   "outputs": [
    {
     "data": {
      "image/png": "[encoded data removed]",
      "text/plain": [
       "<Figure size 960x640 with 1 Axes>"
      ]
     },
     "metadata": {
      "needs_background": "light"
     },
     "output_type": "display_data"
    }
   ],
   "source": [
    "plt.figure(figsize=(12,8),dpi=80)\n",
    "plt.plot(air['Month'],air['Thousands of Passengers'])\n",
    "plt.xlabel('Month')\n",
    "plt.ylabel('Thousands of Passengers')\n",
    "plt.show()"
   ]
  },
  {
   "cell_type": "markdown",
   "id": "959462ff",
   "metadata": {},
   "source": [
    "the graph contain trend component and seasonal component"
   ]
  },
  {
   "cell_type": "code",
   "execution_count": 91,
   "id": "c267bb97",
   "metadata": {},
   "outputs": [],
   "source": [
    "air.rename({'Thousands of Passengers':'Counts'},axis=1,inplace = True)"
   ]
  },
  {
   "cell_type": "code",
   "execution_count": 92,
   "id": "d0c49158",
   "metadata": {},
   "outputs": [
    {
     "data": {
      "text/html": [
       "<div>\n",
       "<style scoped>\n",
       "    .dataframe tbody tr th:only-of-type {\n",
       "        vertical-align: middle;\n",
       "    }\n",
       "\n",
       "    .dataframe tbody tr th {\n",
       "        vertical-align: top;\n",
       "    }\n",
       "\n",
       "    .dataframe thead th {\n",
       "        text-align: right;\n",
       "    }\n",
       "</style>\n",
       "<table border=\"1\" class=\"dataframe\">\n",
       "  <thead>\n",
       "    <tr style=\"text-align: right;\">\n",
       "      <th></th>\n",
       "      <th>Month</th>\n",
       "      <th>Counts</th>\n",
       "    </tr>\n",
       "  </thead>\n",
       "  <tbody>\n",
       "    <tr>\n",
       "      <th>0</th>\n",
       "      <td>1949-01-01</td>\n",
       "      <td>112</td>\n",
       "    </tr>\n",
       "    <tr>\n",
       "      <th>1</th>\n",
       "      <td>1949-02-01</td>\n",
       "      <td>118</td>\n",
       "    </tr>\n",
       "    <tr>\n",
       "      <th>2</th>\n",
       "      <td>1949-03-01</td>\n",
       "      <td>132</td>\n",
       "    </tr>\n",
       "    <tr>\n",
       "      <th>3</th>\n",
       "      <td>1949-04-01</td>\n",
       "      <td>129</td>\n",
       "    </tr>\n",
       "    <tr>\n",
       "      <th>4</th>\n",
       "      <td>1949-05-01</td>\n",
       "      <td>121</td>\n",
       "    </tr>\n",
       "  </tbody>\n",
       "</table>\n",
       "</div>"
      ],
      "text/plain": [
       "       Month  Counts\n",
       "0 1949-01-01     112\n",
       "1 1949-02-01     118\n",
       "2 1949-03-01     132\n",
       "3 1949-04-01     129\n",
       "4 1949-05-01     121"
      ]
     },
     "execution_count": 92,
     "metadata": {},
     "output_type": "execute_result"
    }
   ],
   "source": [
    "air.head()"
   ]
  },
  {
   "cell_type": "code",
   "execution_count": 93,
   "id": "1be4377a",
   "metadata": {},
   "outputs": [],
   "source": [
    "air.set_index('Month',inplace = True)"
   ]
  },
  {
   "cell_type": "code",
   "execution_count": 94,
   "id": "f193118c",
   "metadata": {},
   "outputs": [
    {
     "data": {
      "text/html": [
       "<div>\n",
       "<style scoped>\n",
       "    .dataframe tbody tr th:only-of-type {\n",
       "        vertical-align: middle;\n",
       "    }\n",
       "\n",
       "    .dataframe tbody tr th {\n",
       "        vertical-align: top;\n",
       "    }\n",
       "\n",
       "    .dataframe thead th {\n",
       "        text-align: right;\n",
       "    }\n",
       "</style>\n",
       "<table border=\"1\" class=\"dataframe\">\n",
       "  <thead>\n",
       "    <tr style=\"text-align: right;\">\n",
       "      <th></th>\n",
       "      <th>Counts</th>\n",
       "    </tr>\n",
       "    <tr>\n",
       "      <th>Month</th>\n",
       "      <th></th>\n",
       "    </tr>\n",
       "  </thead>\n",
       "  <tbody>\n",
       "    <tr>\n",
       "      <th>1949-01-01</th>\n",
       "      <td>112</td>\n",
       "    </tr>\n",
       "    <tr>\n",
       "      <th>1949-02-01</th>\n",
       "      <td>118</td>\n",
       "    </tr>\n",
       "    <tr>\n",
       "      <th>1949-03-01</th>\n",
       "      <td>132</td>\n",
       "    </tr>\n",
       "    <tr>\n",
       "      <th>1949-04-01</th>\n",
       "      <td>129</td>\n",
       "    </tr>\n",
       "    <tr>\n",
       "      <th>1949-05-01</th>\n",
       "      <td>121</td>\n",
       "    </tr>\n",
       "  </tbody>\n",
       "</table>\n",
       "</div>"
      ],
      "text/plain": [
       "            Counts\n",
       "Month             \n",
       "1949-01-01     112\n",
       "1949-02-01     118\n",
       "1949-03-01     132\n",
       "1949-04-01     129\n",
       "1949-05-01     121"
      ]
     },
     "execution_count": 94,
     "metadata": {},
     "output_type": "execute_result"
    }
   ],
   "source": [
    "air.head()"
   ]
  },
  {
   "cell_type": "markdown",
   "id": "6d937c74",
   "metadata": {},
   "source": [
    "# Check for stationarity"
   ]
  },
  {
   "cell_type": "code",
   "execution_count": 95,
   "id": "6e54e399",
   "metadata": {},
   "outputs": [],
   "source": [
    "# We would be using adfuller test to check stationarity\n",
    "\n",
    "from statsmodels.tsa.stattools import adfuller"
   ]
  },
  {
   "cell_type": "code",
   "execution_count": 96,
   "id": "045d881b",
   "metadata": {},
   "outputs": [],
   "source": [
    "results = adfuller(air)"
   ]
  },
  {
   "cell_type": "code",
   "execution_count": 97,
   "id": "1447022c",
   "metadata": {
    "scrolled": true
   },
   "outputs": [
    {
     "name": "stdout",
     "output_type": "stream",
     "text": [
      "Test Statistics: 0.8153688792060423\n",
      "p value: 0.9918802434376409\n",
      "Critical values:\n",
      " {'1%': -3.4816817173418295, '5%': -2.8840418343195267, '10%': -2.578770059171598}\n",
      "The Series is not Stationary\n"
     ]
    }
   ],
   "source": [
    "print ('Test Statistics:', results[0])\n",
    "print('p value:',results[1])\n",
    "print('Critical values:\\n',results[4])\n",
    "\n",
    "\n",
    "p_value = results[1]\n",
    "\n",
    "\n",
    "\n",
    "if p_value < 0.05:\n",
    "     print('The Series is Stationary')\n",
    "else:\n",
    "    print ('The Series is not Stationary')\n"
   ]
  },
  {
   "cell_type": "code",
   "execution_count": 98,
   "id": "6dc3ea31",
   "metadata": {},
   "outputs": [],
   "source": [
    "# Differencing is the concept of subtracting the current value with the previous value.\n",
    "\n",
    "air_diff1 = air.diff(1)"
   ]
  },
  {
   "cell_type": "code",
   "execution_count": 99,
   "id": "a0e78633",
   "metadata": {},
   "outputs": [
    {
     "data": {
      "text/html": [
       "<div>\n",
       "<style scoped>\n",
       "    .dataframe tbody tr th:only-of-type {\n",
       "        vertical-align: middle;\n",
       "    }\n",
       "\n",
       "    .dataframe tbody tr th {\n",
       "        vertical-align: top;\n",
       "    }\n",
       "\n",
       "    .dataframe thead th {\n",
       "        text-align: right;\n",
       "    }\n",
       "</style>\n",
       "<table border=\"1\" class=\"dataframe\">\n",
       "  <thead>\n",
       "    <tr style=\"text-align: right;\">\n",
       "      <th></th>\n",
       "      <th>Counts</th>\n",
       "    </tr>\n",
       "    <tr>\n",
       "      <th>Month</th>\n",
       "      <th></th>\n",
       "    </tr>\n",
       "  </thead>\n",
       "  <tbody>\n",
       "    <tr>\n",
       "      <th>1949-01-01</th>\n",
       "      <td>NaN</td>\n",
       "    </tr>\n",
       "    <tr>\n",
       "      <th>1949-02-01</th>\n",
       "      <td>6.0</td>\n",
       "    </tr>\n",
       "    <tr>\n",
       "      <th>1949-03-01</th>\n",
       "      <td>14.0</td>\n",
       "    </tr>\n",
       "    <tr>\n",
       "      <th>1949-04-01</th>\n",
       "      <td>-3.0</td>\n",
       "    </tr>\n",
       "    <tr>\n",
       "      <th>1949-05-01</th>\n",
       "      <td>-8.0</td>\n",
       "    </tr>\n",
       "  </tbody>\n",
       "</table>\n",
       "</div>"
      ],
      "text/plain": [
       "            Counts\n",
       "Month             \n",
       "1949-01-01     NaN\n",
       "1949-02-01     6.0\n",
       "1949-03-01    14.0\n",
       "1949-04-01    -3.0\n",
       "1949-05-01    -8.0"
      ]
     },
     "execution_count": 99,
     "metadata": {},
     "output_type": "execute_result"
    }
   ],
   "source": [
    "air_diff1.head()"
   ]
  },
  {
   "cell_type": "code",
   "execution_count": 100,
   "id": "f0ad3f03",
   "metadata": {},
   "outputs": [
    {
     "data": {
      "text/html": [
       "<div>\n",
       "<style scoped>\n",
       "    .dataframe tbody tr th:only-of-type {\n",
       "        vertical-align: middle;\n",
       "    }\n",
       "\n",
       "    .dataframe tbody tr th {\n",
       "        vertical-align: top;\n",
       "    }\n",
       "\n",
       "    .dataframe thead th {\n",
       "        text-align: right;\n",
       "    }\n",
       "</style>\n",
       "<table border=\"1\" class=\"dataframe\">\n",
       "  <thead>\n",
       "    <tr style=\"text-align: right;\">\n",
       "      <th></th>\n",
       "      <th>Counts</th>\n",
       "    </tr>\n",
       "    <tr>\n",
       "      <th>Month</th>\n",
       "      <th></th>\n",
       "    </tr>\n",
       "  </thead>\n",
       "  <tbody>\n",
       "    <tr>\n",
       "      <th>1949-02-01</th>\n",
       "      <td>6.0</td>\n",
       "    </tr>\n",
       "    <tr>\n",
       "      <th>1949-03-01</th>\n",
       "      <td>14.0</td>\n",
       "    </tr>\n",
       "    <tr>\n",
       "      <th>1949-04-01</th>\n",
       "      <td>-3.0</td>\n",
       "    </tr>\n",
       "    <tr>\n",
       "      <th>1949-05-01</th>\n",
       "      <td>-8.0</td>\n",
       "    </tr>\n",
       "    <tr>\n",
       "      <th>1949-06-01</th>\n",
       "      <td>14.0</td>\n",
       "    </tr>\n",
       "  </tbody>\n",
       "</table>\n",
       "</div>"
      ],
      "text/plain": [
       "            Counts\n",
       "Month             \n",
       "1949-02-01     6.0\n",
       "1949-03-01    14.0\n",
       "1949-04-01    -3.0\n",
       "1949-05-01    -8.0\n",
       "1949-06-01    14.0"
      ]
     },
     "execution_count": 100,
     "metadata": {},
     "output_type": "execute_result"
    }
   ],
   "source": [
    "air_diff1 = air_diff1.dropna()\n",
    "air_diff1.head()"
   ]
  },
  {
   "cell_type": "code",
   "execution_count": 101,
   "id": "bc925462",
   "metadata": {},
   "outputs": [],
   "source": [
    "#Doing the test again to check for stationarity\n",
    "\n",
    "results = adfuller(air_diff1)"
   ]
  },
  {
   "cell_type": "code",
   "execution_count": 102,
   "id": "a4e3c724",
   "metadata": {},
   "outputs": [
    {
     "name": "stdout",
     "output_type": "stream",
     "text": [
      "Test Statistics: -2.8292668241699874\n",
      "p value: 0.05421329028382711\n",
      "Critical values:\n",
      " {'1%': -3.4816817173418295, '5%': -2.8840418343195267, '10%': -2.578770059171598}\n",
      "The Series is not Stationary\n"
     ]
    }
   ],
   "source": [
    "print ('Test Statistics:', results[0])\n",
    "print('p value:',results[1])\n",
    "print('Critical values:\\n',results[4])\n",
    "\n",
    "\n",
    "p_value = results[1]\n",
    "\n",
    "\n",
    "\n",
    "if p_value < 0.05:\n",
    "     print('The Series is Stationary')\n",
    "else:\n",
    "    print ('The Series is not Stationary')\n"
   ]
  },
  {
   "cell_type": "code",
   "execution_count": 105,
   "id": "5138bb35",
   "metadata": {},
   "outputs": [
    {
     "data": {
      "text/html": [
       "<div>\n",
       "<style scoped>\n",
       "    .dataframe tbody tr th:only-of-type {\n",
       "        vertical-align: middle;\n",
       "    }\n",
       "\n",
       "    .dataframe tbody tr th {\n",
       "        vertical-align: top;\n",
       "    }\n",
       "\n",
       "    .dataframe thead th {\n",
       "        text-align: right;\n",
       "    }\n",
       "</style>\n",
       "<table border=\"1\" class=\"dataframe\">\n",
       "  <thead>\n",
       "    <tr style=\"text-align: right;\">\n",
       "      <th></th>\n",
       "      <th>Counts</th>\n",
       "    </tr>\n",
       "    <tr>\n",
       "      <th>Month</th>\n",
       "      <th></th>\n",
       "    </tr>\n",
       "  </thead>\n",
       "  <tbody>\n",
       "    <tr>\n",
       "      <th>1949-02-01</th>\n",
       "      <td>NaN</td>\n",
       "    </tr>\n",
       "    <tr>\n",
       "      <th>1949-03-01</th>\n",
       "      <td>8.0</td>\n",
       "    </tr>\n",
       "    <tr>\n",
       "      <th>1949-04-01</th>\n",
       "      <td>-17.0</td>\n",
       "    </tr>\n",
       "    <tr>\n",
       "      <th>1949-05-01</th>\n",
       "      <td>-5.0</td>\n",
       "    </tr>\n",
       "    <tr>\n",
       "      <th>1949-06-01</th>\n",
       "      <td>22.0</td>\n",
       "    </tr>\n",
       "  </tbody>\n",
       "</table>\n",
       "</div>"
      ],
      "text/plain": [
       "            Counts\n",
       "Month             \n",
       "1949-02-01     NaN\n",
       "1949-03-01     8.0\n",
       "1949-04-01   -17.0\n",
       "1949-05-01    -5.0\n",
       "1949-06-01    22.0"
      ]
     },
     "execution_count": 105,
     "metadata": {},
     "output_type": "execute_result"
    }
   ],
   "source": [
    "air_diff2 = air_diff1.diff(1)\n",
    "air_diff2.head()"
   ]
  },
  {
   "cell_type": "code",
   "execution_count": 106,
   "id": "142bf3d6",
   "metadata": {},
   "outputs": [
    {
     "data": {
      "text/html": [
       "<div>\n",
       "<style scoped>\n",
       "    .dataframe tbody tr th:only-of-type {\n",
       "        vertical-align: middle;\n",
       "    }\n",
       "\n",
       "    .dataframe tbody tr th {\n",
       "        vertical-align: top;\n",
       "    }\n",
       "\n",
       "    .dataframe thead th {\n",
       "        text-align: right;\n",
       "    }\n",
       "</style>\n",
       "<table border=\"1\" class=\"dataframe\">\n",
       "  <thead>\n",
       "    <tr style=\"text-align: right;\">\n",
       "      <th></th>\n",
       "      <th>Counts</th>\n",
       "    </tr>\n",
       "    <tr>\n",
       "      <th>Month</th>\n",
       "      <th></th>\n",
       "    </tr>\n",
       "  </thead>\n",
       "  <tbody>\n",
       "    <tr>\n",
       "      <th>1949-03-01</th>\n",
       "      <td>8.0</td>\n",
       "    </tr>\n",
       "    <tr>\n",
       "      <th>1949-04-01</th>\n",
       "      <td>-17.0</td>\n",
       "    </tr>\n",
       "    <tr>\n",
       "      <th>1949-05-01</th>\n",
       "      <td>-5.0</td>\n",
       "    </tr>\n",
       "    <tr>\n",
       "      <th>1949-06-01</th>\n",
       "      <td>22.0</td>\n",
       "    </tr>\n",
       "    <tr>\n",
       "      <th>1949-07-01</th>\n",
       "      <td>-1.0</td>\n",
       "    </tr>\n",
       "  </tbody>\n",
       "</table>\n",
       "</div>"
      ],
      "text/plain": [
       "            Counts\n",
       "Month             \n",
       "1949-03-01     8.0\n",
       "1949-04-01   -17.0\n",
       "1949-05-01    -5.0\n",
       "1949-06-01    22.0\n",
       "1949-07-01    -1.0"
      ]
     },
     "execution_count": 106,
     "metadata": {},
     "output_type": "execute_result"
    }
   ],
   "source": [
    "air_diff2 = air_diff2.dropna()\n",
    "air_diff2.head()"
   ]
  },
  {
   "cell_type": "code",
   "execution_count": 107,
   "id": "c00a110f",
   "metadata": {},
   "outputs": [],
   "source": [
    "results = adfuller(air_diff2)"
   ]
  },
  {
   "cell_type": "code",
   "execution_count": 108,
   "id": "1fb2cc17",
   "metadata": {},
   "outputs": [
    {
     "name": "stdout",
     "output_type": "stream",
     "text": [
      "Test Statistics: -16.384231542468513\n",
      "p value: 2.7328918500142026e-29\n",
      "Critical values:\n",
      " {'1%': -3.4816817173418295, '5%': -2.8840418343195267, '10%': -2.578770059171598}\n",
      "The Series is Stationary\n"
     ]
    }
   ],
   "source": [
    "print ('Test Statistics:', results[0])\n",
    "print('p value:',results[1])\n",
    "print('Critical values:\\n',results[4])\n",
    "\n",
    "\n",
    "p_value = results[1]\n",
    "\n",
    "\n",
    "\n",
    "if p_value < 0.05:\n",
    "     print('The Series is Stationary')\n",
    "else:\n",
    "    print ('The Series is not Stationary')\n"
   ]
  },
  {
   "cell_type": "code",
   "execution_count": 109,
   "id": "eaaec0a2",
   "metadata": {},
   "outputs": [],
   "source": [
    "#Since the data has monthly seasonality we would do the differencing with lag 12.\n",
    "\n",
    "air_diff12 = air.diff(12)"
   ]
  },
  {
   "cell_type": "code",
   "execution_count": 110,
   "id": "68fc4b58",
   "metadata": {
    "scrolled": true
   },
   "outputs": [
    {
     "data": {
      "text/html": [
       "<div>\n",
       "<style scoped>\n",
       "    .dataframe tbody tr th:only-of-type {\n",
       "        vertical-align: middle;\n",
       "    }\n",
       "\n",
       "    .dataframe tbody tr th {\n",
       "        vertical-align: top;\n",
       "    }\n",
       "\n",
       "    .dataframe thead th {\n",
       "        text-align: right;\n",
       "    }\n",
       "</style>\n",
       "<table border=\"1\" class=\"dataframe\">\n",
       "  <thead>\n",
       "    <tr style=\"text-align: right;\">\n",
       "      <th></th>\n",
       "      <th>Counts</th>\n",
       "    </tr>\n",
       "    <tr>\n",
       "      <th>Month</th>\n",
       "      <th></th>\n",
       "    </tr>\n",
       "  </thead>\n",
       "  <tbody>\n",
       "    <tr>\n",
       "      <th>1949-01-01</th>\n",
       "      <td>NaN</td>\n",
       "    </tr>\n",
       "    <tr>\n",
       "      <th>1949-02-01</th>\n",
       "      <td>NaN</td>\n",
       "    </tr>\n",
       "    <tr>\n",
       "      <th>1949-03-01</th>\n",
       "      <td>NaN</td>\n",
       "    </tr>\n",
       "    <tr>\n",
       "      <th>1949-04-01</th>\n",
       "      <td>NaN</td>\n",
       "    </tr>\n",
       "    <tr>\n",
       "      <th>1949-05-01</th>\n",
       "      <td>NaN</td>\n",
       "    </tr>\n",
       "    <tr>\n",
       "      <th>1949-06-01</th>\n",
       "      <td>NaN</td>\n",
       "    </tr>\n",
       "    <tr>\n",
       "      <th>1949-07-01</th>\n",
       "      <td>NaN</td>\n",
       "    </tr>\n",
       "    <tr>\n",
       "      <th>1949-08-01</th>\n",
       "      <td>NaN</td>\n",
       "    </tr>\n",
       "    <tr>\n",
       "      <th>1949-09-01</th>\n",
       "      <td>NaN</td>\n",
       "    </tr>\n",
       "    <tr>\n",
       "      <th>1949-10-01</th>\n",
       "      <td>NaN</td>\n",
       "    </tr>\n",
       "    <tr>\n",
       "      <th>1949-11-01</th>\n",
       "      <td>NaN</td>\n",
       "    </tr>\n",
       "    <tr>\n",
       "      <th>1949-12-01</th>\n",
       "      <td>NaN</td>\n",
       "    </tr>\n",
       "    <tr>\n",
       "      <th>1950-01-01</th>\n",
       "      <td>3.0</td>\n",
       "    </tr>\n",
       "    <tr>\n",
       "      <th>1950-02-01</th>\n",
       "      <td>8.0</td>\n",
       "    </tr>\n",
       "    <tr>\n",
       "      <th>1950-03-01</th>\n",
       "      <td>9.0</td>\n",
       "    </tr>\n",
       "    <tr>\n",
       "      <th>1950-04-01</th>\n",
       "      <td>6.0</td>\n",
       "    </tr>\n",
       "    <tr>\n",
       "      <th>1950-05-01</th>\n",
       "      <td>4.0</td>\n",
       "    </tr>\n",
       "    <tr>\n",
       "      <th>1950-06-01</th>\n",
       "      <td>14.0</td>\n",
       "    </tr>\n",
       "    <tr>\n",
       "      <th>1950-07-01</th>\n",
       "      <td>22.0</td>\n",
       "    </tr>\n",
       "    <tr>\n",
       "      <th>1950-08-01</th>\n",
       "      <td>22.0</td>\n",
       "    </tr>\n",
       "    <tr>\n",
       "      <th>1950-09-01</th>\n",
       "      <td>22.0</td>\n",
       "    </tr>\n",
       "    <tr>\n",
       "      <th>1950-10-01</th>\n",
       "      <td>14.0</td>\n",
       "    </tr>\n",
       "    <tr>\n",
       "      <th>1950-11-01</th>\n",
       "      <td>10.0</td>\n",
       "    </tr>\n",
       "    <tr>\n",
       "      <th>1950-12-01</th>\n",
       "      <td>22.0</td>\n",
       "    </tr>\n",
       "    <tr>\n",
       "      <th>1951-01-01</th>\n",
       "      <td>30.0</td>\n",
       "    </tr>\n",
       "    <tr>\n",
       "      <th>1951-02-01</th>\n",
       "      <td>24.0</td>\n",
       "    </tr>\n",
       "    <tr>\n",
       "      <th>1951-03-01</th>\n",
       "      <td>37.0</td>\n",
       "    </tr>\n",
       "    <tr>\n",
       "      <th>1951-04-01</th>\n",
       "      <td>28.0</td>\n",
       "    </tr>\n",
       "    <tr>\n",
       "      <th>1951-05-01</th>\n",
       "      <td>47.0</td>\n",
       "    </tr>\n",
       "    <tr>\n",
       "      <th>1951-06-01</th>\n",
       "      <td>29.0</td>\n",
       "    </tr>\n",
       "    <tr>\n",
       "      <th>1951-07-01</th>\n",
       "      <td>29.0</td>\n",
       "    </tr>\n",
       "    <tr>\n",
       "      <th>1951-08-01</th>\n",
       "      <td>29.0</td>\n",
       "    </tr>\n",
       "    <tr>\n",
       "      <th>1951-09-01</th>\n",
       "      <td>26.0</td>\n",
       "    </tr>\n",
       "    <tr>\n",
       "      <th>1951-10-01</th>\n",
       "      <td>29.0</td>\n",
       "    </tr>\n",
       "    <tr>\n",
       "      <th>1951-11-01</th>\n",
       "      <td>32.0</td>\n",
       "    </tr>\n",
       "    <tr>\n",
       "      <th>1951-12-01</th>\n",
       "      <td>26.0</td>\n",
       "    </tr>\n",
       "    <tr>\n",
       "      <th>1952-01-01</th>\n",
       "      <td>26.0</td>\n",
       "    </tr>\n",
       "    <tr>\n",
       "      <th>1952-02-01</th>\n",
       "      <td>30.0</td>\n",
       "    </tr>\n",
       "    <tr>\n",
       "      <th>1952-03-01</th>\n",
       "      <td>15.0</td>\n",
       "    </tr>\n",
       "    <tr>\n",
       "      <th>1952-04-01</th>\n",
       "      <td>18.0</td>\n",
       "    </tr>\n",
       "    <tr>\n",
       "      <th>1952-05-01</th>\n",
       "      <td>11.0</td>\n",
       "    </tr>\n",
       "    <tr>\n",
       "      <th>1952-06-01</th>\n",
       "      <td>40.0</td>\n",
       "    </tr>\n",
       "    <tr>\n",
       "      <th>1952-07-01</th>\n",
       "      <td>31.0</td>\n",
       "    </tr>\n",
       "    <tr>\n",
       "      <th>1952-08-01</th>\n",
       "      <td>43.0</td>\n",
       "    </tr>\n",
       "    <tr>\n",
       "      <th>1952-09-01</th>\n",
       "      <td>25.0</td>\n",
       "    </tr>\n",
       "    <tr>\n",
       "      <th>1952-10-01</th>\n",
       "      <td>29.0</td>\n",
       "    </tr>\n",
       "    <tr>\n",
       "      <th>1952-11-01</th>\n",
       "      <td>26.0</td>\n",
       "    </tr>\n",
       "    <tr>\n",
       "      <th>1952-12-01</th>\n",
       "      <td>28.0</td>\n",
       "    </tr>\n",
       "    <tr>\n",
       "      <th>1953-01-01</th>\n",
       "      <td>25.0</td>\n",
       "    </tr>\n",
       "    <tr>\n",
       "      <th>1953-02-01</th>\n",
       "      <td>16.0</td>\n",
       "    </tr>\n",
       "  </tbody>\n",
       "</table>\n",
       "</div>"
      ],
      "text/plain": [
       "            Counts\n",
       "Month             \n",
       "1949-01-01     NaN\n",
       "1949-02-01     NaN\n",
       "1949-03-01     NaN\n",
       "1949-04-01     NaN\n",
       "1949-05-01     NaN\n",
       "1949-06-01     NaN\n",
       "1949-07-01     NaN\n",
       "1949-08-01     NaN\n",
       "1949-09-01     NaN\n",
       "1949-10-01     NaN\n",
       "1949-11-01     NaN\n",
       "1949-12-01     NaN\n",
       "1950-01-01     3.0\n",
       "1950-02-01     8.0\n",
       "1950-03-01     9.0\n",
       "1950-04-01     6.0\n",
       "1950-05-01     4.0\n",
       "1950-06-01    14.0\n",
       "1950-07-01    22.0\n",
       "1950-08-01    22.0\n",
       "1950-09-01    22.0\n",
       "1950-10-01    14.0\n",
       "1950-11-01    10.0\n",
       "1950-12-01    22.0\n",
       "1951-01-01    30.0\n",
       "1951-02-01    24.0\n",
       "1951-03-01    37.0\n",
       "1951-04-01    28.0\n",
       "1951-05-01    47.0\n",
       "1951-06-01    29.0\n",
       "1951-07-01    29.0\n",
       "1951-08-01    29.0\n",
       "1951-09-01    26.0\n",
       "1951-10-01    29.0\n",
       "1951-11-01    32.0\n",
       "1951-12-01    26.0\n",
       "1952-01-01    26.0\n",
       "1952-02-01    30.0\n",
       "1952-03-01    15.0\n",
       "1952-04-01    18.0\n",
       "1952-05-01    11.0\n",
       "1952-06-01    40.0\n",
       "1952-07-01    31.0\n",
       "1952-08-01    43.0\n",
       "1952-09-01    25.0\n",
       "1952-10-01    29.0\n",
       "1952-11-01    26.0\n",
       "1952-12-01    28.0\n",
       "1953-01-01    25.0\n",
       "1953-02-01    16.0"
      ]
     },
     "execution_count": 110,
     "metadata": {},
     "output_type": "execute_result"
    }
   ],
   "source": [
    "air_diff12.head(50)"
   ]
  },
  {
   "cell_type": "markdown",
   "id": "1569d671",
   "metadata": {},
   "source": [
    "We will now identify the 3 components of ARIMA\n",
    "\n",
    "p\n",
    "\n",
    "d - 1 (This is because I have done one differencing to make it stationary with lag 12)\n",
    "\n",
    "q\n",
    "\n",
    "For identifying p and q component we need 2 graphs\n",
    "\n",
    "P - can be identified using the PACF plot\n",
    "\n",
    "Q - can be identified using ACF plot"
   ]
  },
  {
   "cell_type": "code",
   "execution_count": 111,
   "id": "2a964ca2",
   "metadata": {},
   "outputs": [],
   "source": [
    "#Let us plot the acf graph\n",
    "\n",
    "from statsmodels.graphics.tsaplots import plot_acf,plot_pacf"
   ]
  },
  {
   "cell_type": "code",
   "execution_count": 112,
   "id": "c364a0ff",
   "metadata": {},
   "outputs": [
    {
     "data": {
      "image/png": "[encoded data removed]",
      "text/plain": [
       "<Figure size 432x288 with 1 Axes>"
      ]
     },
     "metadata": {
      "needs_background": "light"
     },
     "output_type": "display_data"
    }
   ],
   "source": [
    "acf = plot_acf(air_diff12['Counts'].dropna(),lags=10) #ACF plot gives you the q OR(Q) value."
   ]
  },
  {
   "cell_type": "markdown",
   "id": "727670ab",
   "metadata": {},
   "source": [
    "We would choose the value of q to be 5 since after 5 lags the series becomes insignificant . the blue hightlighted area is the insignificant area.\n",
    "\n",
    "We will start with the 2nd Pole as 1st will be neglected coz it is lag0 value."
   ]
  },
  {
   "cell_type": "code",
   "execution_count": 113,
   "id": "39478b98",
   "metadata": {},
   "outputs": [
    {
     "data": {
      "image/png": "[encoded data removed]",
      "text/plain": [
       "<Figure size 432x288 with 1 Axes>"
      ]
     },
     "metadata": {
      "needs_background": "light"
     },
     "output_type": "display_data"
    }
   ],
   "source": [
    "pacf = plot_pacf(air_diff12['Counts'].dropna(),lags=20) #PACF plot gives you the p value"
   ]
  },
  {
   "cell_type": "markdown",
   "id": "ef56e0b2",
   "metadata": {},
   "source": [
    "We would choose the value of p to be 2 since after 2 lags the series becomes insignificant"
   ]
  },
  {
   "cell_type": "code",
   "execution_count": 114,
   "id": "79efdbe2",
   "metadata": {},
   "outputs": [],
   "source": [
    "# The order for my model is (p,d,q) = (2,1,5)"
   ]
  },
  {
   "cell_type": "markdown",
   "id": "2cd91bf6",
   "metadata": {},
   "source": [
    "# Building ARIMA model"
   ]
  },
  {
   "cell_type": "code",
   "execution_count": 49,
   "id": "2bbca347",
   "metadata": {},
   "outputs": [],
   "source": [
    "from statsmodels.tsa.arima_model import ARIMA"
   ]
  },
  {
   "cell_type": "code",
   "execution_count": 50,
   "id": "a0b46e43",
   "metadata": {},
   "outputs": [
    {
     "data": {
      "text/html": [
       "<div>\n",
       "<style scoped>\n",
       "    .dataframe tbody tr th:only-of-type {\n",
       "        vertical-align: middle;\n",
       "    }\n",
       "\n",
       "    .dataframe tbody tr th {\n",
       "        vertical-align: top;\n",
       "    }\n",
       "\n",
       "    .dataframe thead th {\n",
       "        text-align: right;\n",
       "    }\n",
       "</style>\n",
       "<table border=\"1\" class=\"dataframe\">\n",
       "  <thead>\n",
       "    <tr style=\"text-align: right;\">\n",
       "      <th></th>\n",
       "      <th>Counts</th>\n",
       "    </tr>\n",
       "    <tr>\n",
       "      <th>Month</th>\n",
       "      <th></th>\n",
       "    </tr>\n",
       "  </thead>\n",
       "  <tbody>\n",
       "    <tr>\n",
       "      <th>1949-01-01</th>\n",
       "      <td>112</td>\n",
       "    </tr>\n",
       "    <tr>\n",
       "      <th>1949-02-01</th>\n",
       "      <td>118</td>\n",
       "    </tr>\n",
       "    <tr>\n",
       "      <th>1949-03-01</th>\n",
       "      <td>132</td>\n",
       "    </tr>\n",
       "    <tr>\n",
       "      <th>1949-04-01</th>\n",
       "      <td>129</td>\n",
       "    </tr>\n",
       "    <tr>\n",
       "      <th>1949-05-01</th>\n",
       "      <td>121</td>\n",
       "    </tr>\n",
       "  </tbody>\n",
       "</table>\n",
       "</div>"
      ],
      "text/plain": [
       "            Counts\n",
       "Month             \n",
       "1949-01-01     112\n",
       "1949-02-01     118\n",
       "1949-03-01     132\n",
       "1949-04-01     129\n",
       "1949-05-01     121"
      ]
     },
     "execution_count": 50,
     "metadata": {},
     "output_type": "execute_result"
    }
   ],
   "source": [
    "air.head()"
   ]
  },
  {
   "cell_type": "code",
   "execution_count": 51,
   "id": "aed4b229",
   "metadata": {},
   "outputs": [
    {
     "data": {
      "text/plain": [
       "144"
      ]
     },
     "execution_count": 51,
     "metadata": {},
     "output_type": "execute_result"
    }
   ],
   "source": [
    "#Let us split the data into train and test\n",
    "len(air)"
   ]
  },
  {
   "cell_type": "code",
   "execution_count": 52,
   "id": "5b792efe",
   "metadata": {},
   "outputs": [],
   "source": [
    "#We would use 120 months data for training and 24 months of data for testing\n",
    "train = air.iloc[:120]\n",
    "test = air.iloc[120:]"
   ]
  },
  {
   "cell_type": "code",
   "execution_count": 53,
   "id": "baefb2b1",
   "metadata": {},
   "outputs": [
    {
     "data": {
      "text/plain": [
       "(120, 24)"
      ]
     },
     "execution_count": 53,
     "metadata": {},
     "output_type": "execute_result"
    }
   ],
   "source": [
    "len(train), len(test)"
   ]
  },
  {
   "cell_type": "code",
   "execution_count": 54,
   "id": "8c8d70e8",
   "metadata": {},
   "outputs": [],
   "source": [
    "import warnings\n",
    "warnings.filterwarnings('ignore')"
   ]
  },
  {
   "cell_type": "code",
   "execution_count": 55,
   "id": "7bab5287",
   "metadata": {},
   "outputs": [],
   "source": [
    "model = ARIMA(train,order=(2,1,5))"
   ]
  },
  {
   "cell_type": "code",
   "execution_count": 61,
   "id": "fd0a6fe1",
   "metadata": {},
   "outputs": [
    {
     "name": "stderr",
     "output_type": "stream",
     "text": [
      " This problem is unconstrained.\n"
     ]
    },
    {
     "name": "stdout",
     "output_type": "stream",
     "text": [
      "RUNNING THE L-BFGS-B CODE\n",
      "\n",
      "           * * *\n",
      "\n",
      "Machine precision = 2.220D-16\n",
      " N =            8     M =           12\n",
      "\n",
      "At X0         0 variables are exactly at the bounds\n",
      "\n",
      "At iterate    0    f=  4.48414D+00    |proj g|=  2.40840D-01\n",
      "\n",
      "At iterate    5    f=  4.47389D+00    |proj g|=  2.85943D-02\n",
      "\n",
      "At iterate   10    f=  4.46914D+00    |proj g|=  1.27886D-02\n",
      "\n",
      "At iterate   15    f=  4.46742D+00    |proj g|=  2.96499D-02\n",
      "\n",
      "At iterate   20    f=  4.46620D+00    |proj g|=  5.66232D-03\n",
      "\n",
      "At iterate   25    f=  4.46579D+00    |proj g|=  3.58771D-03\n",
      "\n",
      "At iterate   30    f=  4.46576D+00    |proj g|=  1.64757D-04\n",
      "\n",
      "At iterate   35    f=  4.46576D+00    |proj g|=  2.19025D-04\n",
      "\n",
      "At iterate   40    f=  4.46576D+00    |proj g|=  3.87246D-05\n",
      "\n",
      "At iterate   45    f=  4.46576D+00    |proj g|=  6.23501D-05\n",
      "\n",
      "At iterate   50    f=  4.46576D+00    |proj g|=  8.89067D-05\n",
      "\n",
      "           * * *\n",
      "\n",
      "Tit   = total number of iterations\n",
      "Tnf   = total number of function evaluations\n",
      "Tnint = total number of segments explored during Cauchy searches\n",
      "Skip  = number of BFGS updates skipped\n",
      "Nact  = number of active bounds at final generalized Cauchy point\n",
      "Projg = norm of the final projected gradient\n",
      "F     = final function value\n",
      "\n",
      "           * * *\n",
      "\n",
      "   N    Tit     Tnf  Tnint  Skip  Nact     Projg        F\n",
      "    8     52     71      1     0     0   1.963D-05   4.466D+00\n",
      "  F =   4.4657567946675378     \n",
      "\n",
      "CONVERGENCE: REL_REDUCTION_OF_F_<=_FACTR*EPSMCH             \n"
     ]
    }
   ],
   "source": [
    "arima = model.fit()"
   ]
  },
  {
   "cell_type": "code",
   "execution_count": 62,
   "id": "9b0b530e",
   "metadata": {},
   "outputs": [
    {
     "data": {
      "text/plain": [
       "(Timestamp('1959-01-01 00:00:00'), Timestamp('1960-12-01 00:00:00'))"
      ]
     },
     "execution_count": 62,
     "metadata": {},
     "output_type": "execute_result"
    }
   ],
   "source": [
    "test.index[0], test.index[-1]"
   ]
  },
  {
   "cell_type": "code",
   "execution_count": 63,
   "id": "78368463",
   "metadata": {},
   "outputs": [],
   "source": [
    "start = test.index[0]\n",
    "end = test.index[-1]"
   ]
  },
  {
   "cell_type": "code",
   "execution_count": 64,
   "id": "3ea1c1fd",
   "metadata": {},
   "outputs": [],
   "source": [
    "test['Prediction'] = arima.predict(start=start,end=end)"
   ]
  },
  {
   "cell_type": "code",
   "execution_count": 65,
   "id": "ecc26002",
   "metadata": {},
   "outputs": [
    {
     "data": {
      "text/html": [
       "<div>\n",
       "<style scoped>\n",
       "    .dataframe tbody tr th:only-of-type {\n",
       "        vertical-align: middle;\n",
       "    }\n",
       "\n",
       "    .dataframe tbody tr th {\n",
       "        vertical-align: top;\n",
       "    }\n",
       "\n",
       "    .dataframe thead th {\n",
       "        text-align: right;\n",
       "    }\n",
       "</style>\n",
       "<table border=\"1\" class=\"dataframe\">\n",
       "  <thead>\n",
       "    <tr style=\"text-align: right;\">\n",
       "      <th></th>\n",
       "      <th>Counts</th>\n",
       "      <th>Prediction</th>\n",
       "    </tr>\n",
       "    <tr>\n",
       "      <th>Month</th>\n",
       "      <th></th>\n",
       "      <th></th>\n",
       "    </tr>\n",
       "  </thead>\n",
       "  <tbody>\n",
       "    <tr>\n",
       "      <th>1959-01-01</th>\n",
       "      <td>360</td>\n",
       "      <td>75.122195</td>\n",
       "    </tr>\n",
       "    <tr>\n",
       "      <th>1959-02-01</th>\n",
       "      <td>342</td>\n",
       "      <td>33.562619</td>\n",
       "    </tr>\n",
       "    <tr>\n",
       "      <th>1959-03-01</th>\n",
       "      <td>406</td>\n",
       "      <td>10.875442</td>\n",
       "    </tr>\n",
       "    <tr>\n",
       "      <th>1959-04-01</th>\n",
       "      <td>396</td>\n",
       "      <td>-35.882406</td>\n",
       "    </tr>\n",
       "    <tr>\n",
       "      <th>1959-05-01</th>\n",
       "      <td>420</td>\n",
       "      <td>-39.427967</td>\n",
       "    </tr>\n",
       "  </tbody>\n",
       "</table>\n",
       "</div>"
      ],
      "text/plain": [
       "            Counts  Prediction\n",
       "Month                         \n",
       "1959-01-01     360   75.122195\n",
       "1959-02-01     342   33.562619\n",
       "1959-03-01     406   10.875442\n",
       "1959-04-01     396  -35.882406\n",
       "1959-05-01     420  -39.427967"
      ]
     },
     "execution_count": 65,
     "metadata": {},
     "output_type": "execute_result"
    }
   ],
   "source": [
    "test.head()"
   ]
  },
  {
   "cell_type": "code",
   "execution_count": 66,
   "id": "0e7991a9",
   "metadata": {},
   "outputs": [],
   "source": [
    "#To evaluate the model we would use a metric MAPE\n",
    "from sklearn.metrics import mean_absolute_percentage_error"
   ]
  },
  {
   "cell_type": "code",
   "execution_count": 68,
   "id": "118618a8",
   "metadata": {},
   "outputs": [
    {
     "name": "stdout",
     "output_type": "stream",
     "text": [
      "0.988813445185186\n"
     ]
    }
   ],
   "source": [
    "print(mean_absolute_percentage_error(test['Counts'],test['Prediction']))"
   ]
  },
  {
   "cell_type": "code",
   "execution_count": 70,
   "id": "c7076b91",
   "metadata": {},
   "outputs": [
    {
     "data": {
      "text/plain": [
       "<AxesSubplot:xlabel='Month'>"
      ]
     },
     "execution_count": 70,
     "metadata": {},
     "output_type": "execute_result"
    },
    {
     "data": {
      "image/png": "[encoded data removed]",
      "text/plain": [
       "<Figure size 432x288 with 1 Axes>"
      ]
     },
     "metadata": {
      "needs_background": "light"
     },
     "output_type": "display_data"
    }
   ],
   "source": [
    "test[['Counts','Prediction']].plot()"
   ]
  },
  {
   "cell_type": "markdown",
   "id": "c9307ffc",
   "metadata": {},
   "source": [
    "### It shows the error in prediction is high. Because of the seasonality component , so we goona use a model called SARIMA which will take seasonality component into consideration"
   ]
  },
  {
   "cell_type": "code",
   "execution_count": 72,
   "id": "681cce67",
   "metadata": {},
   "outputs": [],
   "source": [
    "#Creating a SARIMAX model to deal with seasonality\n",
    "from statsmodels.tsa.statespace.sarimax import SARIMAX"
   ]
  },
  {
   "cell_type": "code",
   "execution_count": 79,
   "id": "8fb34bae",
   "metadata": {},
   "outputs": [],
   "source": [
    "model_SARIMA = SARIMAX(train,order=(2,1,5),seasonal_order=(2,1,5,12))"
   ]
  },
  {
   "cell_type": "code",
   "execution_count": 80,
   "id": "9a446697",
   "metadata": {},
   "outputs": [
    {
     "name": "stderr",
     "output_type": "stream",
     "text": [
      " This problem is unconstrained.\n"
     ]
    },
    {
     "name": "stdout",
     "output_type": "stream",
     "text": [
      "RUNNING THE L-BFGS-B CODE\n",
      "\n",
      "           * * *\n",
      "\n",
      "Machine precision = 2.220D-16\n",
      " N =           15     M =           10\n",
      "\n",
      "At X0         0 variables are exactly at the bounds\n",
      "\n",
      "At iterate    0    f=  3.30565D+00    |proj g|=  8.58516D-02\n",
      "\n",
      "At iterate    5    f=  3.28238D+00    |proj g|=  1.47801D-02\n",
      "\n",
      "At iterate   10    f=  3.26688D+00    |proj g|=  1.61389D-02\n",
      "\n",
      "At iterate   15    f=  3.26355D+00    |proj g|=  9.63607D-03\n",
      "\n",
      "At iterate   20    f=  3.25713D+00    |proj g|=  1.05012D-02\n",
      "\n",
      "At iterate   25    f=  3.25441D+00    |proj g|=  4.14548D-03\n",
      "\n",
      "At iterate   30    f=  3.25342D+00    |proj g|=  2.47355D-03\n",
      "\n",
      "At iterate   35    f=  3.25177D+00    |proj g|=  1.02711D-02\n",
      "\n",
      "At iterate   40    f=  3.24948D+00    |proj g|=  4.34113D-03\n",
      "\n",
      "At iterate   45    f=  3.24626D+00    |proj g|=  7.46272D-03\n",
      "\n",
      "At iterate   50    f=  3.24486D+00    |proj g|=  4.55889D-03\n",
      "\n",
      "           * * *\n",
      "\n",
      "Tit   = total number of iterations\n",
      "Tnf   = total number of function evaluations\n",
      "Tnint = total number of segments explored during Cauchy searches\n",
      "Skip  = number of BFGS updates skipped\n",
      "Nact  = number of active bounds at final generalized Cauchy point\n",
      "Projg = norm of the final projected gradient\n",
      "F     = final function value\n",
      "\n",
      "           * * *\n",
      "\n",
      "   N    Tit     Tnf  Tnint  Skip  Nact     Projg        F\n",
      "   15     50     55      1     0     0   4.559D-03   3.245D+00\n",
      "  F =   3.2448579748572621     \n",
      "\n",
      "STOP: TOTAL NO. of ITERATIONS REACHED LIMIT                 \n"
     ]
    }
   ],
   "source": [
    "SARIMA = model_SARIMA.fit() "
   ]
  },
  {
   "cell_type": "code",
   "execution_count": 81,
   "id": "aa7bdfa5",
   "metadata": {},
   "outputs": [],
   "source": [
    "test['Prediction SARIMA'] = SARIMA.predict(start=start,end=end)"
   ]
  },
  {
   "cell_type": "code",
   "execution_count": 82,
   "id": "4c2fcc7c",
   "metadata": {},
   "outputs": [
    {
     "data": {
      "text/html": [
       "<div>\n",
       "<style scoped>\n",
       "    .dataframe tbody tr th:only-of-type {\n",
       "        vertical-align: middle;\n",
       "    }\n",
       "\n",
       "    .dataframe tbody tr th {\n",
       "        vertical-align: top;\n",
       "    }\n",
       "\n",
       "    .dataframe thead th {\n",
       "        text-align: right;\n",
       "    }\n",
       "</style>\n",
       "<table border=\"1\" class=\"dataframe\">\n",
       "  <thead>\n",
       "    <tr style=\"text-align: right;\">\n",
       "      <th></th>\n",
       "      <th>Counts</th>\n",
       "      <th>Prediction</th>\n",
       "      <th>Prediction SARIMA</th>\n",
       "    </tr>\n",
       "    <tr>\n",
       "      <th>Month</th>\n",
       "      <th></th>\n",
       "      <th></th>\n",
       "      <th></th>\n",
       "    </tr>\n",
       "  </thead>\n",
       "  <tbody>\n",
       "    <tr>\n",
       "      <th>1959-01-01</th>\n",
       "      <td>360</td>\n",
       "      <td>75.122195</td>\n",
       "      <td>355.092100</td>\n",
       "    </tr>\n",
       "    <tr>\n",
       "      <th>1959-02-01</th>\n",
       "      <td>342</td>\n",
       "      <td>33.562619</td>\n",
       "      <td>324.229525</td>\n",
       "    </tr>\n",
       "    <tr>\n",
       "      <th>1959-03-01</th>\n",
       "      <td>406</td>\n",
       "      <td>10.875442</td>\n",
       "      <td>382.894391</td>\n",
       "    </tr>\n",
       "    <tr>\n",
       "      <th>1959-04-01</th>\n",
       "      <td>396</td>\n",
       "      <td>-35.882406</td>\n",
       "      <td>369.002845</td>\n",
       "    </tr>\n",
       "    <tr>\n",
       "      <th>1959-05-01</th>\n",
       "      <td>420</td>\n",
       "      <td>-39.427967</td>\n",
       "      <td>387.374377</td>\n",
       "    </tr>\n",
       "  </tbody>\n",
       "</table>\n",
       "</div>"
      ],
      "text/plain": [
       "            Counts  Prediction  Prediction SARIMA\n",
       "Month                                            \n",
       "1959-01-01     360   75.122195         355.092100\n",
       "1959-02-01     342   33.562619         324.229525\n",
       "1959-03-01     406   10.875442         382.894391\n",
       "1959-04-01     396  -35.882406         369.002845\n",
       "1959-05-01     420  -39.427967         387.374377"
      ]
     },
     "execution_count": 82,
     "metadata": {},
     "output_type": "execute_result"
    }
   ],
   "source": [
    "test.head()"
   ]
  },
  {
   "cell_type": "code",
   "execution_count": 83,
   "id": "9b85f6aa",
   "metadata": {},
   "outputs": [
    {
     "data": {
      "text/plain": [
       "<AxesSubplot:xlabel='Month'>"
      ]
     },
     "execution_count": 83,
     "metadata": {},
     "output_type": "execute_result"
    },
    {
     "data": {
      "image/png": "[encoded data removed]",
      "text/plain": [
       "<Figure size 432x288 with 1 Axes>"
      ]
     },
     "metadata": {
      "needs_background": "light"
     },
     "output_type": "display_data"
    }
   ],
   "source": [
    "test[['Counts','Prediction SARIMA']].plot()"
   ]
  },
  {
   "cell_type": "code",
   "execution_count": 84,
   "id": "7370bd7a",
   "metadata": {},
   "outputs": [],
   "source": [
    "val_pred = SARIMA.predict(start=\"1961-01-01\",end=\"1961-12-01\")"
   ]
  },
  {
   "cell_type": "code",
   "execution_count": 85,
   "id": "fa873ce6",
   "metadata": {},
   "outputs": [
    {
     "data": {
      "text/plain": [
       "1961-01-01    405.425734\n",
       "1961-02-01    370.782680\n",
       "1961-03-01    436.234690\n",
       "1961-04-01    422.526629\n",
       "1961-05-01    443.699900\n",
       "1961-06-01    527.677620\n",
       "1961-07-01    596.097238\n",
       "1961-08-01    603.503843\n",
       "1961-09-01    495.804148\n",
       "1961-10-01    436.064043\n",
       "1961-11-01    379.607093\n",
       "1961-12-01    413.493884\n",
       "Freq: MS, Name: predicted_mean, dtype: float64"
      ]
     },
     "execution_count": 85,
     "metadata": {},
     "output_type": "execute_result"
    }
   ],
   "source": [
    "val_pred"
   ]
  },
  {
   "cell_type": "code",
   "execution_count": 87,
   "id": "ba64ef8a",
   "metadata": {},
   "outputs": [
    {
     "data": {
      "text/plain": [
       "<matplotlib.legend.Legend at 0x7fb54ca1cfd0>"
      ]
     },
     "execution_count": 87,
     "metadata": {},
     "output_type": "execute_result"
    },
    {
     "data": {
      "image/png": "[encoded data removed]",
      "text/plain": [
       "<Figure size 432x288 with 1 Axes>"
      ]
     },
     "metadata": {
      "needs_background": "light"
     },
     "output_type": "display_data"
    }
   ],
   "source": [
    "plt.plot(test['Counts'])\n",
    "plt.plot(val_pred)\n",
    "plt.legend(['Current','Future'])"
   ]
  },
  {
   "cell_type": "code",
   "execution_count": null,
   "id": "0cc97b71",
   "metadata": {},
   "outputs": [],
   "source": []
  }
 ],
 "metadata": {
  "kernelspec": {
   "display_name": "Python 3 (ipykernel)",
   "language": "python",
   "name": "python3"
  },
  "language_info": {
   "codemirror_mode": {
    "name": "ipython",
    "version": 3
   },
   "file_extension": ".py",
   "mimetype": "text/x-python",
   "name": "python",
   "nbconvert_exporter": "python",
   "pygments_lexer": "ipython3",
   "version": "3.9.7"
  }
 },
 "nbformat": 4,
 "nbformat_minor": 5
}
