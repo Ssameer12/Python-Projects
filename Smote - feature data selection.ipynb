{
 "cells": [
  {
   "cell_type": "code",
   "execution_count": 1,
   "id": "e7bc3b74",
   "metadata": {},
   "outputs": [],
   "source": [
    "import pandas as pd \n",
    "import numpy as np\n",
    "import matplotlib.pyplot as plt"
   ]
  },
  {
   "cell_type": "code",
   "execution_count": 2,
   "id": "d365375f",
   "metadata": {},
   "outputs": [
    {
     "data": {
      "text/html": [
       "<div>\n",
       "<style scoped>\n",
       "    .dataframe tbody tr th:only-of-type {\n",
       "        vertical-align: middle;\n",
       "    }\n",
       "\n",
       "    .dataframe tbody tr th {\n",
       "        vertical-align: top;\n",
       "    }\n",
       "\n",
       "    .dataframe thead th {\n",
       "        text-align: right;\n",
       "    }\n",
       "</style>\n",
       "<table border=\"1\" class=\"dataframe\">\n",
       "  <thead>\n",
       "    <tr style=\"text-align: right;\">\n",
       "      <th></th>\n",
       "      <th>FLAG</th>\n",
       "      <th>Avg _Min_Sent_txn</th>\n",
       "      <th>Avg _Min_Recv_txn</th>\n",
       "      <th>Time_Diff</th>\n",
       "      <th>Min value received</th>\n",
       "      <th>Max value received</th>\n",
       "      <th>Min value sent</th>\n",
       "      <th>Max value sent</th>\n",
       "      <th>Total transactions</th>\n",
       "    </tr>\n",
       "  </thead>\n",
       "  <tbody>\n",
       "    <tr>\n",
       "      <th>0</th>\n",
       "      <td>0</td>\n",
       "      <td>21.80</td>\n",
       "      <td>0.00</td>\n",
       "      <td>65.40</td>\n",
       "      <td>101.000000</td>\n",
       "      <td>101.000000</td>\n",
       "      <td>1.000000</td>\n",
       "      <td>84.176518</td>\n",
       "      <td>4</td>\n",
       "    </tr>\n",
       "    <tr>\n",
       "      <th>1</th>\n",
       "      <td>0</td>\n",
       "      <td>1073.76</td>\n",
       "      <td>1476.59</td>\n",
       "      <td>24563.10</td>\n",
       "      <td>0.216334</td>\n",
       "      <td>6.999559</td>\n",
       "      <td>0.000000</td>\n",
       "      <td>7.557834</td>\n",
       "      <td>21</td>\n",
       "    </tr>\n",
       "    <tr>\n",
       "      <th>2</th>\n",
       "      <td>0</td>\n",
       "      <td>13.57</td>\n",
       "      <td>10125.40</td>\n",
       "      <td>638755.18</td>\n",
       "      <td>0.010053</td>\n",
       "      <td>20.000000</td>\n",
       "      <td>0.008583</td>\n",
       "      <td>19.999769</td>\n",
       "      <td>126</td>\n",
       "    </tr>\n",
       "    <tr>\n",
       "      <th>3</th>\n",
       "      <td>0</td>\n",
       "      <td>163765.17</td>\n",
       "      <td>0.00</td>\n",
       "      <td>327530.33</td>\n",
       "      <td>0.002457</td>\n",
       "      <td>0.002457</td>\n",
       "      <td>0.000000</td>\n",
       "      <td>0.000508</td>\n",
       "      <td>3</td>\n",
       "    </tr>\n",
       "    <tr>\n",
       "      <th>4</th>\n",
       "      <td>0</td>\n",
       "      <td>22371.43</td>\n",
       "      <td>29004.65</td>\n",
       "      <td>596613.23</td>\n",
       "      <td>0.005441</td>\n",
       "      <td>1000.000000</td>\n",
       "      <td>0.000000</td>\n",
       "      <td>1000.000000</td>\n",
       "      <td>25</td>\n",
       "    </tr>\n",
       "  </tbody>\n",
       "</table>\n",
       "</div>"
      ],
      "text/plain": [
       "   FLAG  Avg _Min_Sent_txn  Avg _Min_Recv_txn  Time_Diff  Min value received  \\\n",
       "0     0              21.80               0.00      65.40          101.000000   \n",
       "1     0            1073.76            1476.59   24563.10            0.216334   \n",
       "2     0              13.57           10125.40  638755.18            0.010053   \n",
       "3     0          163765.17               0.00  327530.33            0.002457   \n",
       "4     0           22371.43           29004.65  596613.23            0.005441   \n",
       "\n",
       "   Max value received   Min value sent  Max value sent  Total transactions  \n",
       "0           101.000000        1.000000       84.176518                   4  \n",
       "1             6.999559        0.000000        7.557834                  21  \n",
       "2            20.000000        0.008583       19.999769                 126  \n",
       "3             0.002457        0.000000        0.000508                   3  \n",
       "4          1000.000000        0.000000     1000.000000                  25  "
      ]
     },
     "execution_count": 2,
     "metadata": {},
     "output_type": "execute_result"
    }
   ],
   "source": [
    "data = pd.read_excel('./Ether Fraud Transaction case study-23-5-22.xlsx')\n",
    "data.head()"
   ]
  },
  {
   "cell_type": "code",
   "execution_count": 3,
   "id": "b09fe268",
   "metadata": {},
   "outputs": [
    {
     "data": {
      "text/plain": [
       "0    7661\n",
       "1    2179\n",
       "Name: FLAG, dtype: int64"
      ]
     },
     "execution_count": 3,
     "metadata": {},
     "output_type": "execute_result"
    }
   ],
   "source": [
    "#count the values in FLAG\n",
    "data.FLAG.value_counts()"
   ]
  },
  {
   "cell_type": "code",
   "execution_count": 4,
   "id": "194f5ab5",
   "metadata": {},
   "outputs": [
    {
     "name": "stdout",
     "output_type": "stream",
     "text": [
      "<class 'pandas.core.frame.DataFrame'>\n",
      "RangeIndex: 9840 entries, 0 to 9839\n",
      "Data columns (total 9 columns):\n",
      " #   Column               Non-Null Count  Dtype  \n",
      "---  ------               --------------  -----  \n",
      " 0   FLAG                 9840 non-null   int64  \n",
      " 1   Avg _Min_Sent_txn    9840 non-null   float64\n",
      " 2   Avg _Min_Recv_txn    9840 non-null   float64\n",
      " 3   Time_Diff            9840 non-null   float64\n",
      " 4   Min value received   9840 non-null   float64\n",
      " 5   Max value received   9840 non-null   float64\n",
      " 6   Min value sent       9840 non-null   float64\n",
      " 7   Max value sent       9840 non-null   float64\n",
      " 8   Total transactions   9840 non-null   int64  \n",
      "dtypes: float64(7), int64(2)\n",
      "memory usage: 692.0 KB\n"
     ]
    }
   ],
   "source": [
    "data.info() # no missing values"
   ]
  },
  {
   "cell_type": "code",
   "execution_count": 5,
   "id": "c1e90710",
   "metadata": {},
   "outputs": [],
   "source": [
    "x = data.iloc[:,1:]\n",
    "y = data.FLAG"
   ]
  },
  {
   "cell_type": "code",
   "execution_count": 6,
   "id": "74daeeb3",
   "metadata": {},
   "outputs": [
    {
     "data": {
      "text/plain": [
       "0       0\n",
       "1       0\n",
       "2       0\n",
       "3       0\n",
       "4       0\n",
       "       ..\n",
       "9835    0\n",
       "9836    0\n",
       "9837    0\n",
       "9838    1\n",
       "9839    0\n",
       "Name: FLAG, Length: 9840, dtype: int64"
      ]
     },
     "execution_count": 6,
     "metadata": {},
     "output_type": "execute_result"
    }
   ],
   "source": [
    "y"
   ]
  },
  {
   "cell_type": "markdown",
   "id": "f821ee3d",
   "metadata": {},
   "source": [
    "## splitting data into train and test"
   ]
  },
  {
   "cell_type": "code",
   "execution_count": 7,
   "id": "45065408",
   "metadata": {},
   "outputs": [
    {
     "data": {
      "text/plain": [
       "(7872, 1968, 7872, 1968)"
      ]
     },
     "execution_count": 7,
     "metadata": {},
     "output_type": "execute_result"
    }
   ],
   "source": [
    "from sklearn.model_selection import train_test_split\n",
    "x_train,x_test,y_train,y_test = train_test_split(x,y,train_size=0.8,random_state=10)\n",
    "len(x_train),len(x_test),len(y_train),len(y_test)"
   ]
  },
  {
   "cell_type": "markdown",
   "id": "03a76371",
   "metadata": {},
   "source": [
    "## Building the decision tree model"
   ]
  },
  {
   "cell_type": "code",
   "execution_count": 8,
   "id": "bbae5b11",
   "metadata": {},
   "outputs": [],
   "source": [
    "from sklearn.tree import DecisionTreeClassifier\n",
    "dt = DecisionTreeClassifier()\n",
    "model = dt.fit(x_train,y_train)"
   ]
  },
  {
   "cell_type": "markdown",
   "id": "536cd614",
   "metadata": {},
   "source": [
    "Predicting the model on test data"
   ]
  },
  {
   "cell_type": "code",
   "execution_count": 9,
   "id": "dc495a0e",
   "metadata": {},
   "outputs": [
    {
     "data": {
      "text/plain": [
       "array([0, 0, 1, ..., 0, 1, 1])"
      ]
     },
     "execution_count": 9,
     "metadata": {},
     "output_type": "execute_result"
    }
   ],
   "source": [
    "y_predict = model.predict(x_test)\n",
    "y_predict"
   ]
  },
  {
   "cell_type": "code",
   "execution_count": 10,
   "id": "e81b9425",
   "metadata": {},
   "outputs": [],
   "source": [
    "from sklearn.metrics import accuracy_score,confusion_matrix"
   ]
  },
  {
   "cell_type": "code",
   "execution_count": 11,
   "id": "2c81a133",
   "metadata": {},
   "outputs": [
    {
     "data": {
      "text/plain": [
       "array([[1465,   88],\n",
       "       [  93,  322]])"
      ]
     },
     "execution_count": 11,
     "metadata": {},
     "output_type": "execute_result"
    }
   ],
   "source": [
    "confusion_matrix(y_test,y_predict)"
   ]
  },
  {
   "cell_type": "code",
   "execution_count": 12,
   "id": "3a60e59c",
   "metadata": {},
   "outputs": [
    {
     "data": {
      "text/plain": [
       "0.9080284552845529"
      ]
     },
     "execution_count": 12,
     "metadata": {},
     "output_type": "execute_result"
    }
   ],
   "source": [
    "accuracy_score(y_test,y_predict)"
   ]
  },
  {
   "cell_type": "markdown",
   "id": "190fc777",
   "metadata": {},
   "source": [
    "## Introducing SMOTE"
   ]
  },
  {
   "cell_type": "code",
   "execution_count": 13,
   "id": "edfb503b",
   "metadata": {},
   "outputs": [],
   "source": [
    "#!pip install imblearn"
   ]
  },
  {
   "cell_type": "code",
   "execution_count": 14,
   "id": "c6ee5a3c",
   "metadata": {},
   "outputs": [],
   "source": [
    "from imblearn.over_sampling import SMOTE\n",
    "smote = SMOTE()"
   ]
  },
  {
   "cell_type": "code",
   "execution_count": 15,
   "id": "d3332504",
   "metadata": {},
   "outputs": [],
   "source": [
    "x_train_SMOTE,y_train_SMOTE = smote.fit_resample(x_train.astype('float'),y_train)\n"
   ]
  },
  {
   "cell_type": "code",
   "execution_count": 16,
   "id": "6910095a",
   "metadata": {},
   "outputs": [],
   "source": [
    "#comparision with counter\n",
    "from collections import Counter"
   ]
  },
  {
   "cell_type": "code",
   "execution_count": 17,
   "id": "68a06466",
   "metadata": {},
   "outputs": [
    {
     "name": "stdout",
     "output_type": "stream",
     "text": [
      "Before SMOTE: Counter({0: 6108, 1: 1764})\n",
      "After SMOTE: Counter({0: 6108, 1: 6108})\n"
     ]
    }
   ],
   "source": [
    "print(\"Before SMOTE:\",Counter(y_train))\n",
    "print(\"After SMOTE:\",Counter(y_train_SMOTE))"
   ]
  },
  {
   "cell_type": "code",
   "execution_count": 18,
   "id": "417b242d",
   "metadata": {},
   "outputs": [],
   "source": [
    "model = dt.fit(x_train_SMOTE,y_train_SMOTE)"
   ]
  },
  {
   "cell_type": "markdown",
   "id": "a0db936d",
   "metadata": {},
   "source": [
    "Predicting the model on test data"
   ]
  },
  {
   "cell_type": "code",
   "execution_count": 23,
   "id": "bb5153ea",
   "metadata": {},
   "outputs": [],
   "source": [
    "y_test= model.predict(x_test)"
   ]
  },
  {
   "cell_type": "code",
   "execution_count": 24,
   "id": "194ed913",
   "metadata": {},
   "outputs": [
    {
     "data": {
      "text/plain": [
       "array([0, 0, 1, ..., 0, 1, 1])"
      ]
     },
     "execution_count": 24,
     "metadata": {},
     "output_type": "execute_result"
    }
   ],
   "source": [
    "y_test"
   ]
  },
  {
   "cell_type": "code",
   "execution_count": 25,
   "id": "f00bc845",
   "metadata": {},
   "outputs": [
    {
     "data": {
      "text/plain": [
       "array([[1444,   48],\n",
       "       [ 114,  362]])"
      ]
     },
     "execution_count": 25,
     "metadata": {},
     "output_type": "execute_result"
    }
   ],
   "source": [
    "confusion_matrix(y_test,y_predict)"
   ]
  },
  {
   "cell_type": "code",
   "execution_count": 26,
   "id": "8381562b",
   "metadata": {},
   "outputs": [
    {
     "data": {
      "text/plain": [
       "0.9176829268292683"
      ]
     },
     "execution_count": 26,
     "metadata": {},
     "output_type": "execute_result"
    }
   ],
   "source": [
    "accuracy_score(y_test,y_predict)"
   ]
  },
  {
   "cell_type": "code",
   "execution_count": null,
   "id": "d0cf0c36",
   "metadata": {},
   "outputs": [],
   "source": []
  },
  {
   "cell_type": "code",
   "execution_count": null,
   "id": "145641d5",
   "metadata": {},
   "outputs": [],
   "source": []
  }
 ],
 "metadata": {
  "kernelspec": {
   "display_name": "Python 3 (ipykernel)",
   "language": "python",
   "name": "python3"
  },
  "language_info": {
   "codemirror_mode": {
    "name": "ipython",
    "version": 3
   },
   "file_extension": ".py",
   "mimetype": "text/x-python",
   "name": "python",
   "nbconvert_exporter": "python",
   "pygments_lexer": "ipython3",
   "version": "3.9.7"
  },
  "widgets": {
   "application/vnd.jupyter.widget-state+json": {
    "state": {},
    "version_major": 2,
    "version_minor": 0
   }
  }
 },
 "nbformat": 4,
 "nbformat_minor": 5
}
