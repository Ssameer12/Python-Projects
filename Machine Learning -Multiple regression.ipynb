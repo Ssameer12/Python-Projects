{
 "cells": [
  {
   "cell_type": "code",
   "execution_count": 1,
   "id": "31282cbd",
   "metadata": {},
   "outputs": [],
   "source": [
    "import pandas as pd"
   ]
  },
  {
   "cell_type": "code",
   "execution_count": 2,
   "id": "0ab15908",
   "metadata": {},
   "outputs": [
    {
     "data": {
      "text/html": [
       "<div>\n",
       "<style scoped>\n",
       "    .dataframe tbody tr th:only-of-type {\n",
       "        vertical-align: middle;\n",
       "    }\n",
       "\n",
       "    .dataframe tbody tr th {\n",
       "        vertical-align: top;\n",
       "    }\n",
       "\n",
       "    .dataframe thead th {\n",
       "        text-align: right;\n",
       "    }\n",
       "</style>\n",
       "<table border=\"1\" class=\"dataframe\">\n",
       "  <thead>\n",
       "    <tr style=\"text-align: right;\">\n",
       "      <th></th>\n",
       "      <th>Suburb</th>\n",
       "      <th>Address</th>\n",
       "      <th>Rooms</th>\n",
       "      <th>Type</th>\n",
       "      <th>Price</th>\n",
       "      <th>Method</th>\n",
       "      <th>SellerG</th>\n",
       "      <th>Date</th>\n",
       "      <th>Distance</th>\n",
       "      <th>Postcode</th>\n",
       "      <th>...</th>\n",
       "      <th>Bathroom</th>\n",
       "      <th>Car</th>\n",
       "      <th>Landsize</th>\n",
       "      <th>BuildingArea</th>\n",
       "      <th>YearBuilt</th>\n",
       "      <th>CouncilArea</th>\n",
       "      <th>Lattitude</th>\n",
       "      <th>Longtitude</th>\n",
       "      <th>Regionname</th>\n",
       "      <th>Propertycount</th>\n",
       "    </tr>\n",
       "  </thead>\n",
       "  <tbody>\n",
       "    <tr>\n",
       "      <th>0</th>\n",
       "      <td>Abbotsford</td>\n",
       "      <td>68 Studley St</td>\n",
       "      <td>2</td>\n",
       "      <td>h</td>\n",
       "      <td>NaN</td>\n",
       "      <td>SS</td>\n",
       "      <td>Jellis</td>\n",
       "      <td>3/09/2016</td>\n",
       "      <td>2.5</td>\n",
       "      <td>3067.0</td>\n",
       "      <td>...</td>\n",
       "      <td>1.0</td>\n",
       "      <td>1.0</td>\n",
       "      <td>126.0</td>\n",
       "      <td>NaN</td>\n",
       "      <td>NaN</td>\n",
       "      <td>Yarra</td>\n",
       "      <td>-37.80140</td>\n",
       "      <td>144.99580</td>\n",
       "      <td>Northern Metropolitan</td>\n",
       "      <td>4019.0</td>\n",
       "    </tr>\n",
       "    <tr>\n",
       "      <th>1</th>\n",
       "      <td>Abbotsford</td>\n",
       "      <td>85 Turner St</td>\n",
       "      <td>2</td>\n",
       "      <td>h</td>\n",
       "      <td>1480000.0</td>\n",
       "      <td>S</td>\n",
       "      <td>Biggin</td>\n",
       "      <td>3/12/2016</td>\n",
       "      <td>2.5</td>\n",
       "      <td>3067.0</td>\n",
       "      <td>...</td>\n",
       "      <td>1.0</td>\n",
       "      <td>1.0</td>\n",
       "      <td>202.0</td>\n",
       "      <td>NaN</td>\n",
       "      <td>NaN</td>\n",
       "      <td>Yarra</td>\n",
       "      <td>-37.79960</td>\n",
       "      <td>144.99840</td>\n",
       "      <td>Northern Metropolitan</td>\n",
       "      <td>4019.0</td>\n",
       "    </tr>\n",
       "    <tr>\n",
       "      <th>2</th>\n",
       "      <td>Abbotsford</td>\n",
       "      <td>25 Bloomburg St</td>\n",
       "      <td>2</td>\n",
       "      <td>h</td>\n",
       "      <td>1035000.0</td>\n",
       "      <td>S</td>\n",
       "      <td>Biggin</td>\n",
       "      <td>4/02/2016</td>\n",
       "      <td>2.5</td>\n",
       "      <td>3067.0</td>\n",
       "      <td>...</td>\n",
       "      <td>1.0</td>\n",
       "      <td>0.0</td>\n",
       "      <td>156.0</td>\n",
       "      <td>79.0</td>\n",
       "      <td>1900.00</td>\n",
       "      <td>Yarra</td>\n",
       "      <td>-37.80790</td>\n",
       "      <td>144.99340</td>\n",
       "      <td>Northern Metropolitan</td>\n",
       "      <td>4019.0</td>\n",
       "    </tr>\n",
       "    <tr>\n",
       "      <th>3</th>\n",
       "      <td>Abbotsford</td>\n",
       "      <td>18/659 Victoria St</td>\n",
       "      <td>3</td>\n",
       "      <td>u</td>\n",
       "      <td>NaN</td>\n",
       "      <td>VB</td>\n",
       "      <td>Rounds</td>\n",
       "      <td>4/02/2016</td>\n",
       "      <td>2.5</td>\n",
       "      <td>3067.0</td>\n",
       "      <td>...</td>\n",
       "      <td>2.0</td>\n",
       "      <td>1.0</td>\n",
       "      <td>0.0</td>\n",
       "      <td>NaN</td>\n",
       "      <td>NaN</td>\n",
       "      <td>Yarra</td>\n",
       "      <td>-37.81140</td>\n",
       "      <td>145.01160</td>\n",
       "      <td>Northern Metropolitan</td>\n",
       "      <td>4019.0</td>\n",
       "    </tr>\n",
       "    <tr>\n",
       "      <th>4</th>\n",
       "      <td>Abbotsford</td>\n",
       "      <td>5 Charles St</td>\n",
       "      <td>3</td>\n",
       "      <td>h</td>\n",
       "      <td>1465000.0</td>\n",
       "      <td>SP</td>\n",
       "      <td>Biggin</td>\n",
       "      <td>4/03/2017</td>\n",
       "      <td>2.5</td>\n",
       "      <td>3067.0</td>\n",
       "      <td>...</td>\n",
       "      <td>2.0</td>\n",
       "      <td>0.0</td>\n",
       "      <td>134.0</td>\n",
       "      <td>150.0</td>\n",
       "      <td>1900.00</td>\n",
       "      <td>Yarra</td>\n",
       "      <td>-37.80930</td>\n",
       "      <td>144.99440</td>\n",
       "      <td>Northern Metropolitan</td>\n",
       "      <td>4019.0</td>\n",
       "    </tr>\n",
       "    <tr>\n",
       "      <th>...</th>\n",
       "      <td>...</td>\n",
       "      <td>...</td>\n",
       "      <td>...</td>\n",
       "      <td>...</td>\n",
       "      <td>...</td>\n",
       "      <td>...</td>\n",
       "      <td>...</td>\n",
       "      <td>...</td>\n",
       "      <td>...</td>\n",
       "      <td>...</td>\n",
       "      <td>...</td>\n",
       "      <td>...</td>\n",
       "      <td>...</td>\n",
       "      <td>...</td>\n",
       "      <td>...</td>\n",
       "      <td>...</td>\n",
       "      <td>...</td>\n",
       "      <td>...</td>\n",
       "      <td>...</td>\n",
       "      <td>...</td>\n",
       "      <td>...</td>\n",
       "    </tr>\n",
       "    <tr>\n",
       "      <th>19735</th>\n",
       "      <td>Windsor</td>\n",
       "      <td>201/152 Peel St</td>\n",
       "      <td>2</td>\n",
       "      <td>u</td>\n",
       "      <td>560000.0</td>\n",
       "      <td>PI</td>\n",
       "      <td>hockingstuart</td>\n",
       "      <td>29/07/2017</td>\n",
       "      <td>4.6</td>\n",
       "      <td>3181.0</td>\n",
       "      <td>...</td>\n",
       "      <td>1.0</td>\n",
       "      <td>1.0</td>\n",
       "      <td>NaN</td>\n",
       "      <td>585.0</td>\n",
       "      <td>NaN</td>\n",
       "      <td>Whittlesea</td>\n",
       "      <td>-37.67681</td>\n",
       "      <td>145.00323</td>\n",
       "      <td>Southern Metropolitan</td>\n",
       "      <td>4380.0</td>\n",
       "    </tr>\n",
       "    <tr>\n",
       "      <th>19736</th>\n",
       "      <td>Wollert</td>\n",
       "      <td>60 Saltlake Bvd</td>\n",
       "      <td>3</td>\n",
       "      <td>h</td>\n",
       "      <td>525300.0</td>\n",
       "      <td>S</td>\n",
       "      <td>Stockdale</td>\n",
       "      <td>29/07/2017</td>\n",
       "      <td>25.5</td>\n",
       "      <td>3750.0</td>\n",
       "      <td>...</td>\n",
       "      <td>2.0</td>\n",
       "      <td>2.0</td>\n",
       "      <td>NaN</td>\n",
       "      <td>333.0</td>\n",
       "      <td>NaN</td>\n",
       "      <td>Darebin</td>\n",
       "      <td>-37.75884</td>\n",
       "      <td>145.00264</td>\n",
       "      <td>Northern Metropolitan</td>\n",
       "      <td>2940.0</td>\n",
       "    </tr>\n",
       "    <tr>\n",
       "      <th>19737</th>\n",
       "      <td>Yarraville</td>\n",
       "      <td>2 Adeney St</td>\n",
       "      <td>2</td>\n",
       "      <td>h</td>\n",
       "      <td>750000.0</td>\n",
       "      <td>SP</td>\n",
       "      <td>hockingstuart</td>\n",
       "      <td>29/07/2017</td>\n",
       "      <td>6.3</td>\n",
       "      <td>3013.0</td>\n",
       "      <td>...</td>\n",
       "      <td>2.0</td>\n",
       "      <td>2.0</td>\n",
       "      <td>1999.0</td>\n",
       "      <td>199.0</td>\n",
       "      <td>140.00</td>\n",
       "      <td>Darebin</td>\n",
       "      <td>-37.75948</td>\n",
       "      <td>144.99615</td>\n",
       "      <td>Western Metropolitan</td>\n",
       "      <td>6543.0</td>\n",
       "    </tr>\n",
       "    <tr>\n",
       "      <th>19738</th>\n",
       "      <td>Yarraville</td>\n",
       "      <td>54 Pentland Pde</td>\n",
       "      <td>6</td>\n",
       "      <td>h</td>\n",
       "      <td>2450000.0</td>\n",
       "      <td>VB</td>\n",
       "      <td>Village</td>\n",
       "      <td>29/07/2017</td>\n",
       "      <td>6.3</td>\n",
       "      <td>3013.0</td>\n",
       "      <td>...</td>\n",
       "      <td>2.0</td>\n",
       "      <td>1.0</td>\n",
       "      <td>2011.0</td>\n",
       "      <td>238.0</td>\n",
       "      <td>118.00</td>\n",
       "      <td>Hume</td>\n",
       "      <td>-37.70322</td>\n",
       "      <td>144.88236</td>\n",
       "      <td>Western Metropolitan</td>\n",
       "      <td>6543.0</td>\n",
       "    </tr>\n",
       "    <tr>\n",
       "      <th>19739</th>\n",
       "      <td>Yarraville</td>\n",
       "      <td>10/127 Somerville Rd</td>\n",
       "      <td>3</td>\n",
       "      <td>t</td>\n",
       "      <td>645000.0</td>\n",
       "      <td>SP</td>\n",
       "      <td>Jas</td>\n",
       "      <td>29/07/2017</td>\n",
       "      <td>6.3</td>\n",
       "      <td>3013.0</td>\n",
       "      <td>...</td>\n",
       "      <td>1.0</td>\n",
       "      <td>1.0</td>\n",
       "      <td>1980.0</td>\n",
       "      <td>0.0</td>\n",
       "      <td>66.32</td>\n",
       "      <td>Hume</td>\n",
       "      <td>-37.69815</td>\n",
       "      <td>144.88019</td>\n",
       "      <td>Western Metropolitan</td>\n",
       "      <td>6543.0</td>\n",
       "    </tr>\n",
       "  </tbody>\n",
       "</table>\n",
       "<p>19740 rows × 21 columns</p>\n",
       "</div>"
      ],
      "text/plain": [
       "           Suburb               Address  Rooms Type      Price Method  \\\n",
       "0      Abbotsford         68 Studley St      2    h        NaN     SS   \n",
       "1      Abbotsford          85 Turner St      2    h  1480000.0      S   \n",
       "2      Abbotsford       25 Bloomburg St      2    h  1035000.0      S   \n",
       "3      Abbotsford    18/659 Victoria St      3    u        NaN     VB   \n",
       "4      Abbotsford          5 Charles St      3    h  1465000.0     SP   \n",
       "...           ...                   ...    ...  ...        ...    ...   \n",
       "19735     Windsor       201/152 Peel St      2    u   560000.0     PI   \n",
       "19736     Wollert       60 Saltlake Bvd      3    h   525300.0      S   \n",
       "19737  Yarraville           2 Adeney St      2    h   750000.0     SP   \n",
       "19738  Yarraville       54 Pentland Pde      6    h  2450000.0     VB   \n",
       "19739  Yarraville  10/127 Somerville Rd      3    t   645000.0     SP   \n",
       "\n",
       "             SellerG        Date  Distance  Postcode  ...  Bathroom  Car  \\\n",
       "0             Jellis   3/09/2016       2.5    3067.0  ...       1.0  1.0   \n",
       "1             Biggin   3/12/2016       2.5    3067.0  ...       1.0  1.0   \n",
       "2             Biggin   4/02/2016       2.5    3067.0  ...       1.0  0.0   \n",
       "3             Rounds   4/02/2016       2.5    3067.0  ...       2.0  1.0   \n",
       "4             Biggin   4/03/2017       2.5    3067.0  ...       2.0  0.0   \n",
       "...              ...         ...       ...       ...  ...       ...  ...   \n",
       "19735  hockingstuart  29/07/2017       4.6    3181.0  ...       1.0  1.0   \n",
       "19736      Stockdale  29/07/2017      25.5    3750.0  ...       2.0  2.0   \n",
       "19737  hockingstuart  29/07/2017       6.3    3013.0  ...       2.0  2.0   \n",
       "19738        Village  29/07/2017       6.3    3013.0  ...       2.0  1.0   \n",
       "19739            Jas  29/07/2017       6.3    3013.0  ...       1.0  1.0   \n",
       "\n",
       "       Landsize  BuildingArea  YearBuilt  CouncilArea Lattitude  Longtitude  \\\n",
       "0         126.0           NaN        NaN        Yarra -37.80140   144.99580   \n",
       "1         202.0           NaN        NaN        Yarra -37.79960   144.99840   \n",
       "2         156.0          79.0    1900.00        Yarra -37.80790   144.99340   \n",
       "3           0.0           NaN        NaN        Yarra -37.81140   145.01160   \n",
       "4         134.0         150.0    1900.00        Yarra -37.80930   144.99440   \n",
       "...         ...           ...        ...          ...       ...         ...   \n",
       "19735       NaN         585.0        NaN   Whittlesea -37.67681   145.00323   \n",
       "19736       NaN         333.0        NaN      Darebin -37.75884   145.00264   \n",
       "19737    1999.0         199.0     140.00      Darebin -37.75948   144.99615   \n",
       "19738    2011.0         238.0     118.00         Hume -37.70322   144.88236   \n",
       "19739    1980.0           0.0      66.32         Hume -37.69815   144.88019   \n",
       "\n",
       "                  Regionname Propertycount  \n",
       "0      Northern Metropolitan        4019.0  \n",
       "1      Northern Metropolitan        4019.0  \n",
       "2      Northern Metropolitan        4019.0  \n",
       "3      Northern Metropolitan        4019.0  \n",
       "4      Northern Metropolitan        4019.0  \n",
       "...                      ...           ...  \n",
       "19735  Southern Metropolitan        4380.0  \n",
       "19736  Northern Metropolitan        2940.0  \n",
       "19737   Western Metropolitan        6543.0  \n",
       "19738   Western Metropolitan        6543.0  \n",
       "19739   Western Metropolitan        6543.0  \n",
       "\n",
       "[19740 rows x 21 columns]"
      ]
     },
     "execution_count": 2,
     "metadata": {},
     "output_type": "execute_result"
    }
   ],
   "source": [
    "house = pd.read_csv('./Melbourne_housing_extra_data.csv')\n",
    "house"
   ]
  },
  {
   "cell_type": "code",
   "execution_count": 4,
   "id": "b4ea9c3d",
   "metadata": {},
   "outputs": [
    {
     "name": "stdout",
     "output_type": "stream",
     "text": [
      "<class 'pandas.core.frame.DataFrame'>\n",
      "RangeIndex: 19740 entries, 0 to 19739\n",
      "Data columns (total 21 columns):\n",
      " #   Column         Non-Null Count  Dtype  \n",
      "---  ------         --------------  -----  \n",
      " 0   Suburb         19740 non-null  object \n",
      " 1   Address        19740 non-null  object \n",
      " 2   Rooms          19740 non-null  int64  \n",
      " 3   Type           19740 non-null  object \n",
      " 4   Price          15396 non-null  float64\n",
      " 5   Method         19740 non-null  object \n",
      " 6   SellerG        19740 non-null  object \n",
      " 7   Date           19740 non-null  object \n",
      " 8   Distance       19732 non-null  float64\n",
      " 9   Postcode       19732 non-null  float64\n",
      " 10  Bedroom2       15327 non-null  float64\n",
      " 11  Bathroom       15327 non-null  float64\n",
      " 12  Car            15327 non-null  float64\n",
      " 13  Landsize       14944 non-null  float64\n",
      " 14  BuildingArea   8617 non-null   float64\n",
      " 15  YearBuilt      9351 non-null   float64\n",
      " 16  CouncilArea    15296 non-null  object \n",
      " 17  Lattitude      15448 non-null  float64\n",
      " 18  Longtitude     15448 non-null  float64\n",
      " 19  Regionname     19732 non-null  object \n",
      " 20  Propertycount  19732 non-null  float64\n",
      "dtypes: float64(12), int64(1), object(8)\n",
      "memory usage: 3.2+ MB\n"
     ]
    }
   ],
   "source": [
    "house.info()"
   ]
  },
  {
   "cell_type": "code",
   "execution_count": 11,
   "id": "29429105",
   "metadata": {},
   "outputs": [
    {
     "data": {
      "text/html": [
       "<div>\n",
       "<style scoped>\n",
       "    .dataframe tbody tr th:only-of-type {\n",
       "        vertical-align: middle;\n",
       "    }\n",
       "\n",
       "    .dataframe tbody tr th {\n",
       "        vertical-align: top;\n",
       "    }\n",
       "\n",
       "    .dataframe thead th {\n",
       "        text-align: right;\n",
       "    }\n",
       "</style>\n",
       "<table border=\"1\" class=\"dataframe\">\n",
       "  <thead>\n",
       "    <tr style=\"text-align: right;\">\n",
       "      <th></th>\n",
       "      <th>Price</th>\n",
       "      <th>Bedroom2</th>\n",
       "      <th>Rooms</th>\n",
       "      <th>Car</th>\n",
       "      <th>Landsize</th>\n",
       "    </tr>\n",
       "  </thead>\n",
       "  <tbody>\n",
       "    <tr>\n",
       "      <th>0</th>\n",
       "      <td>NaN</td>\n",
       "      <td>2.0</td>\n",
       "      <td>2</td>\n",
       "      <td>1.0</td>\n",
       "      <td>126.0</td>\n",
       "    </tr>\n",
       "    <tr>\n",
       "      <th>1</th>\n",
       "      <td>1480000.0</td>\n",
       "      <td>2.0</td>\n",
       "      <td>2</td>\n",
       "      <td>1.0</td>\n",
       "      <td>202.0</td>\n",
       "    </tr>\n",
       "    <tr>\n",
       "      <th>2</th>\n",
       "      <td>1035000.0</td>\n",
       "      <td>2.0</td>\n",
       "      <td>2</td>\n",
       "      <td>0.0</td>\n",
       "      <td>156.0</td>\n",
       "    </tr>\n",
       "    <tr>\n",
       "      <th>3</th>\n",
       "      <td>NaN</td>\n",
       "      <td>3.0</td>\n",
       "      <td>3</td>\n",
       "      <td>1.0</td>\n",
       "      <td>0.0</td>\n",
       "    </tr>\n",
       "    <tr>\n",
       "      <th>4</th>\n",
       "      <td>1465000.0</td>\n",
       "      <td>3.0</td>\n",
       "      <td>3</td>\n",
       "      <td>0.0</td>\n",
       "      <td>134.0</td>\n",
       "    </tr>\n",
       "  </tbody>\n",
       "</table>\n",
       "</div>"
      ],
      "text/plain": [
       "       Price  Bedroom2  Rooms  Car  Landsize\n",
       "0        NaN       2.0      2  1.0     126.0\n",
       "1  1480000.0       2.0      2  1.0     202.0\n",
       "2  1035000.0       2.0      2  0.0     156.0\n",
       "3        NaN       3.0      3  1.0       0.0\n",
       "4  1465000.0       3.0      3  0.0     134.0"
      ]
     },
     "execution_count": 11,
     "metadata": {},
     "output_type": "execute_result"
    }
   ],
   "source": [
    "df = house[['Price','Bedroom2','Rooms','Car','Landsize']] #Columns we need\n",
    "df.head()"
   ]
  },
  {
   "cell_type": "code",
   "execution_count": 16,
   "id": "162827f4",
   "metadata": {},
   "outputs": [
    {
     "data": {
      "text/plain": [
       "Price       4344\n",
       "Bedroom2    4413\n",
       "Rooms          0\n",
       "Car         4413\n",
       "Landsize    4796\n",
       "dtype: int64"
      ]
     },
     "execution_count": 16,
     "metadata": {},
     "output_type": "execute_result"
    }
   ],
   "source": [
    "#Checking for the missing values\n",
    "df.isnull().sum()"
   ]
  },
  {
   "cell_type": "markdown",
   "id": "ab421696",
   "metadata": {},
   "source": [
    "Handling Missing values in Machine Learning\n",
    "\n",
    "- If the data has more than 40% missing values, we would remove the missing values.\n",
    "- If it is less than 40%, we can replace the missing values.\n",
    "\n",
    " When replacing the missing value, we can either replace them with the mean or median of\n",
    "  the column\n",
    "  \n",
    "  \n",
    "- If the skewness value is between -1 to 1, we would replace the missing values with\n",
    "  mean\n",
    "- Else you replace the missing values with median"
   ]
  },
  {
   "cell_type": "code",
   "execution_count": 19,
   "id": "01ffe1d4",
   "metadata": {},
   "outputs": [
    {
     "data": {
      "text/plain": [
       "2.3647135694133263"
      ]
     },
     "execution_count": 19,
     "metadata": {},
     "output_type": "execute_result"
    }
   ],
   "source": [
    "df['Price'].skew()"
   ]
  },
  {
   "cell_type": "code",
   "execution_count": 20,
   "id": "7afaa3de",
   "metadata": {},
   "outputs": [
    {
     "data": {
      "text/plain": [
       "1.9744507249368086"
      ]
     },
     "execution_count": 20,
     "metadata": {},
     "output_type": "execute_result"
    }
   ],
   "source": [
    "df['Bedroom2'].skew()"
   ]
  },
  {
   "cell_type": "code",
   "execution_count": 23,
   "id": "1a96cff1",
   "metadata": {},
   "outputs": [
    {
     "data": {
      "text/plain": [
       "2.3013065613368844"
      ]
     },
     "execution_count": 23,
     "metadata": {},
     "output_type": "execute_result"
    }
   ],
   "source": [
    "df['Car'].skew()"
   ]
  },
  {
   "cell_type": "code",
   "execution_count": 22,
   "id": "23854c76",
   "metadata": {},
   "outputs": [
    {
     "data": {
      "text/plain": [
       "101.19472990366793"
      ]
     },
     "execution_count": 22,
     "metadata": {},
     "output_type": "execute_result"
    }
   ],
   "source": [
    "df['Landsize'].skew()"
   ]
  },
  {
   "cell_type": "code",
   "execution_count": 25,
   "id": "59814b3b",
   "metadata": {},
   "outputs": [
    {
     "data": {
      "text/plain": [
       "880000.0"
      ]
     },
     "execution_count": 25,
     "metadata": {},
     "output_type": "execute_result"
    }
   ],
   "source": [
    "#Replace the missing values with the median for each column\n",
    "df['Price'].median()"
   ]
  },
  {
   "cell_type": "code",
   "execution_count": 34,
   "id": "abde40fb",
   "metadata": {},
   "outputs": [],
   "source": [
    "df['Price'].fillna(df['Price'].median(),inplace=True)"
   ]
  },
  {
   "cell_type": "code",
   "execution_count": 35,
   "id": "20c0b032",
   "metadata": {},
   "outputs": [
    {
     "data": {
      "text/plain": [
       "3.0"
      ]
     },
     "execution_count": 35,
     "metadata": {},
     "output_type": "execute_result"
    }
   ],
   "source": [
    "df['Bedroom2'].median()"
   ]
  },
  {
   "cell_type": "code",
   "execution_count": 36,
   "id": "5337292f",
   "metadata": {},
   "outputs": [],
   "source": [
    "df['Bedroom2'].fillna(df['Bedroom2'].median(),inplace=True)"
   ]
  },
  {
   "cell_type": "code",
   "execution_count": 40,
   "id": "eb8cdfe3",
   "metadata": {},
   "outputs": [
    {
     "data": {
      "text/plain": [
       "2.0"
      ]
     },
     "execution_count": 40,
     "metadata": {},
     "output_type": "execute_result"
    }
   ],
   "source": [
    "df['Car'].median()"
   ]
  },
  {
   "cell_type": "code",
   "execution_count": 81,
   "id": "7d25ab45",
   "metadata": {},
   "outputs": [
    {
     "name": "stderr",
     "output_type": "stream",
     "text": [
      "/Users/ssameer/opt/anaconda3/lib/python3.9/site-packages/pandas/core/generic.py:6392: SettingWithCopyWarning: \n",
      "A value is trying to be set on a copy of a slice from a DataFrame\n",
      "\n",
      "See the caveats in the documentation: https://pandas.pydata.org/pandas-docs/stable/user_guide/indexing.html#returning-a-view-versus-a-copy\n",
      "  return self._update_inplace(result)\n"
     ]
    }
   ],
   "source": [
    "df['Car'].fillna(df['Car'].median(),inplace=True)"
   ]
  },
  {
   "cell_type": "code",
   "execution_count": 82,
   "id": "3d7496eb",
   "metadata": {},
   "outputs": [
    {
     "data": {
      "text/plain": [
       "420.0"
      ]
     },
     "execution_count": 82,
     "metadata": {},
     "output_type": "execute_result"
    }
   ],
   "source": [
    "df['Landsize'].median()"
   ]
  },
  {
   "cell_type": "code",
   "execution_count": 83,
   "id": "79f386ed",
   "metadata": {},
   "outputs": [],
   "source": [
    "df['Landsize'].fillna(df['Landsize'].median(),inplace=True)\n"
   ]
  },
  {
   "cell_type": "code",
   "execution_count": 84,
   "id": "6725dd72",
   "metadata": {},
   "outputs": [
    {
     "data": {
      "text/plain": [
       "Price       0\n",
       "Bedroom2    0\n",
       "Rooms       0\n",
       "Car         0\n",
       "Landsize    0\n",
       "dtype: int64"
      ]
     },
     "execution_count": 84,
     "metadata": {},
     "output_type": "execute_result"
    }
   ],
   "source": [
    "df.isnull().sum()"
   ]
  },
  {
   "cell_type": "code",
   "execution_count": 85,
   "id": "9c6f406d",
   "metadata": {},
   "outputs": [],
   "source": [
    "#Identifying the input and output variable\n",
    "\n",
    "y= df[['Price']]\n",
    "x= df[['Bedroom2','Rooms','Car','Landsize']]"
   ]
  },
  {
   "cell_type": "code",
   "execution_count": 86,
   "id": "cd1fbf5e",
   "metadata": {},
   "outputs": [],
   "source": [
    "from sklearn.model_selection import train_test_split"
   ]
  },
  {
   "cell_type": "code",
   "execution_count": 87,
   "id": "e9e3d1d5",
   "metadata": {},
   "outputs": [],
   "source": [
    "x_train,x_test,y_train,y_test = train_test_split(x,y,random_state = 42)"
   ]
  },
  {
   "cell_type": "code",
   "execution_count": 88,
   "id": "a1ebd8bd",
   "metadata": {},
   "outputs": [
    {
     "data": {
      "text/plain": [
       "(14805, 4935, 14805, 4935)"
      ]
     },
     "execution_count": 88,
     "metadata": {},
     "output_type": "execute_result"
    }
   ],
   "source": [
    "len(x_train),len(x_test),len(y_train),len(y_test)"
   ]
  },
  {
   "cell_type": "markdown",
   "id": "cd8c4f59",
   "metadata": {},
   "source": [
    "## Building the model "
   ]
  },
  {
   "cell_type": "code",
   "execution_count": 89,
   "id": "8e5e2641",
   "metadata": {},
   "outputs": [],
   "source": [
    "from sklearn.linear_model import LinearRegression\n",
    "\n",
    "mlr = LinearRegression()\n",
    "model = mlr.fit(x_train,y_train)"
   ]
  },
  {
   "cell_type": "code",
   "execution_count": 90,
   "id": "843d301f",
   "metadata": {},
   "outputs": [
    {
     "data": {
      "text/html": [
       "<div>\n",
       "<style scoped>\n",
       "    .dataframe tbody tr th:only-of-type {\n",
       "        vertical-align: middle;\n",
       "    }\n",
       "\n",
       "    .dataframe tbody tr th {\n",
       "        vertical-align: top;\n",
       "    }\n",
       "\n",
       "    .dataframe thead th {\n",
       "        text-align: right;\n",
       "    }\n",
       "</style>\n",
       "<table border=\"1\" class=\"dataframe\">\n",
       "  <thead>\n",
       "    <tr style=\"text-align: right;\">\n",
       "      <th></th>\n",
       "      <th>Bedroom2</th>\n",
       "      <th>Rooms</th>\n",
       "      <th>Car</th>\n",
       "      <th>Landsize</th>\n",
       "    </tr>\n",
       "  </thead>\n",
       "  <tbody>\n",
       "    <tr>\n",
       "      <th>13544</th>\n",
       "      <td>2.0</td>\n",
       "      <td>2</td>\n",
       "      <td>2.0</td>\n",
       "      <td>705.0</td>\n",
       "    </tr>\n",
       "    <tr>\n",
       "      <th>10607</th>\n",
       "      <td>3.0</td>\n",
       "      <td>3</td>\n",
       "      <td>1.0</td>\n",
       "      <td>0.0</td>\n",
       "    </tr>\n",
       "    <tr>\n",
       "      <th>18738</th>\n",
       "      <td>3.0</td>\n",
       "      <td>3</td>\n",
       "      <td>1.0</td>\n",
       "      <td>1920.0</td>\n",
       "    </tr>\n",
       "    <tr>\n",
       "      <th>8018</th>\n",
       "      <td>2.0</td>\n",
       "      <td>2</td>\n",
       "      <td>1.0</td>\n",
       "      <td>0.0</td>\n",
       "    </tr>\n",
       "    <tr>\n",
       "      <th>8999</th>\n",
       "      <td>2.0</td>\n",
       "      <td>2</td>\n",
       "      <td>1.0</td>\n",
       "      <td>83.0</td>\n",
       "    </tr>\n",
       "  </tbody>\n",
       "</table>\n",
       "</div>"
      ],
      "text/plain": [
       "       Bedroom2  Rooms  Car  Landsize\n",
       "13544       2.0      2  2.0     705.0\n",
       "10607       3.0      3  1.0       0.0\n",
       "18738       3.0      3  1.0    1920.0\n",
       "8018        2.0      2  1.0       0.0\n",
       "8999        2.0      2  1.0      83.0"
      ]
     },
     "execution_count": 90,
     "metadata": {},
     "output_type": "execute_result"
    }
   ],
   "source": [
    "x_train.head()"
   ]
  },
  {
   "cell_type": "markdown",
   "id": "953a9349",
   "metadata": {},
   "source": [
    "Price = m1*Bedroom2+m2*Rooms+m3*Car+m4*Landsize+c"
   ]
  },
  {
   "cell_type": "code",
   "execution_count": 91,
   "id": "bf191378",
   "metadata": {},
   "outputs": [
    {
     "data": {
      "text/plain": [
       "array([[ 1.77058837e+04,  2.34097880e+05,  2.18644278e+04,\n",
       "        -6.05449745e-01]])"
      ]
     },
     "execution_count": 91,
     "metadata": {},
     "output_type": "execute_result"
    }
   ],
   "source": [
    "model.coef_"
   ]
  },
  {
   "cell_type": "code",
   "execution_count": 93,
   "id": "60c10bd5",
   "metadata": {},
   "outputs": [
    {
     "data": {
      "text/plain": [
       "array([237337.74429214])"
      ]
     },
     "execution_count": 93,
     "metadata": {},
     "output_type": "execute_result"
    }
   ],
   "source": [
    "model.intercept_"
   ]
  },
  {
   "cell_type": "code",
   "execution_count": 95,
   "id": "d8644d08",
   "metadata": {},
   "outputs": [
    {
     "data": {
      "text/plain": [
       "0.18847136284246868"
      ]
     },
     "execution_count": 95,
     "metadata": {},
     "output_type": "execute_result"
    }
   ],
   "source": [
    "model.score(x_train,y_train) #R**2 value"
   ]
  },
  {
   "cell_type": "code",
   "execution_count": 104,
   "id": "3194c5c9",
   "metadata": {},
   "outputs": [
    {
     "data": {
      "text/html": [
       "<div>\n",
       "<style scoped>\n",
       "    .dataframe tbody tr th:only-of-type {\n",
       "        vertical-align: middle;\n",
       "    }\n",
       "\n",
       "    .dataframe tbody tr th {\n",
       "        vertical-align: top;\n",
       "    }\n",
       "\n",
       "    .dataframe thead th {\n",
       "        text-align: right;\n",
       "    }\n",
       "</style>\n",
       "<table border=\"1\" class=\"dataframe\">\n",
       "  <thead>\n",
       "    <tr style=\"text-align: right;\">\n",
       "      <th></th>\n",
       "      <th>Rooms</th>\n",
       "      <th>Price</th>\n",
       "      <th>Distance</th>\n",
       "      <th>Bedroom2</th>\n",
       "      <th>Bathroom</th>\n",
       "      <th>Car</th>\n",
       "      <th>Landsize</th>\n",
       "      <th>BuildingArea</th>\n",
       "      <th>YearBuilt</th>\n",
       "    </tr>\n",
       "  </thead>\n",
       "  <tbody>\n",
       "    <tr>\n",
       "      <th>0</th>\n",
       "      <td>2</td>\n",
       "      <td>NaN</td>\n",
       "      <td>2.5</td>\n",
       "      <td>2.0</td>\n",
       "      <td>1.0</td>\n",
       "      <td>1.0</td>\n",
       "      <td>126.0</td>\n",
       "      <td>NaN</td>\n",
       "      <td>NaN</td>\n",
       "    </tr>\n",
       "    <tr>\n",
       "      <th>1</th>\n",
       "      <td>2</td>\n",
       "      <td>1480000.0</td>\n",
       "      <td>2.5</td>\n",
       "      <td>2.0</td>\n",
       "      <td>1.0</td>\n",
       "      <td>1.0</td>\n",
       "      <td>202.0</td>\n",
       "      <td>NaN</td>\n",
       "      <td>NaN</td>\n",
       "    </tr>\n",
       "    <tr>\n",
       "      <th>2</th>\n",
       "      <td>2</td>\n",
       "      <td>1035000.0</td>\n",
       "      <td>2.5</td>\n",
       "      <td>2.0</td>\n",
       "      <td>1.0</td>\n",
       "      <td>0.0</td>\n",
       "      <td>156.0</td>\n",
       "      <td>79.0</td>\n",
       "      <td>1900.0</td>\n",
       "    </tr>\n",
       "    <tr>\n",
       "      <th>3</th>\n",
       "      <td>3</td>\n",
       "      <td>NaN</td>\n",
       "      <td>2.5</td>\n",
       "      <td>3.0</td>\n",
       "      <td>2.0</td>\n",
       "      <td>1.0</td>\n",
       "      <td>0.0</td>\n",
       "      <td>NaN</td>\n",
       "      <td>NaN</td>\n",
       "    </tr>\n",
       "    <tr>\n",
       "      <th>4</th>\n",
       "      <td>3</td>\n",
       "      <td>1465000.0</td>\n",
       "      <td>2.5</td>\n",
       "      <td>3.0</td>\n",
       "      <td>2.0</td>\n",
       "      <td>0.0</td>\n",
       "      <td>134.0</td>\n",
       "      <td>150.0</td>\n",
       "      <td>1900.0</td>\n",
       "    </tr>\n",
       "  </tbody>\n",
       "</table>\n",
       "</div>"
      ],
      "text/plain": [
       "   Rooms      Price  Distance  Bedroom2  Bathroom  Car  Landsize  \\\n",
       "0      2        NaN       2.5       2.0       1.0  1.0     126.0   \n",
       "1      2  1480000.0       2.5       2.0       1.0  1.0     202.0   \n",
       "2      2  1035000.0       2.5       2.0       1.0  0.0     156.0   \n",
       "3      3        NaN       2.5       3.0       2.0  1.0       0.0   \n",
       "4      3  1465000.0       2.5       3.0       2.0  0.0     134.0   \n",
       "\n",
       "   BuildingArea  YearBuilt  \n",
       "0           NaN        NaN  \n",
       "1           NaN        NaN  \n",
       "2          79.0     1900.0  \n",
       "3           NaN        NaN  \n",
       "4         150.0     1900.0  "
      ]
     },
     "execution_count": 104,
     "metadata": {},
     "output_type": "execute_result"
    }
   ],
   "source": [
    "df_new = house[['Rooms','Price','Distance','Bedroom2','Bathroom','Car','Landsize','BuildingArea','YearBuilt']]\n",
    "df_new.head()"
   ]
  },
  {
   "cell_type": "code",
   "execution_count": 105,
   "id": "7733ffd0",
   "metadata": {},
   "outputs": [
    {
     "name": "stderr",
     "output_type": "stream",
     "text": [
      "/Users/ssameer/opt/anaconda3/lib/python3.9/site-packages/pandas/util/_decorators.py:311: SettingWithCopyWarning: \n",
      "A value is trying to be set on a copy of a slice from a DataFrame\n",
      "\n",
      "See the caveats in the documentation: https://pandas.pydata.org/pandas-docs/stable/user_guide/indexing.html#returning-a-view-versus-a-copy\n",
      "  return func(*args, **kwargs)\n"
     ]
    }
   ],
   "source": [
    "df_new.dropna(inplace = True)"
   ]
  },
  {
   "cell_type": "code",
   "execution_count": 106,
   "id": "7ca6fe47",
   "metadata": {},
   "outputs": [
    {
     "data": {
      "text/plain": [
       "(6056, 9)"
      ]
     },
     "execution_count": 106,
     "metadata": {},
     "output_type": "execute_result"
    }
   ],
   "source": [
    "df_new.shape"
   ]
  },
  {
   "cell_type": "code",
   "execution_count": 110,
   "id": "a2efc9fe",
   "metadata": {},
   "outputs": [
    {
     "data": {
      "text/html": [
       "<div>\n",
       "<style scoped>\n",
       "    .dataframe tbody tr th:only-of-type {\n",
       "        vertical-align: middle;\n",
       "    }\n",
       "\n",
       "    .dataframe tbody tr th {\n",
       "        vertical-align: top;\n",
       "    }\n",
       "\n",
       "    .dataframe thead th {\n",
       "        text-align: right;\n",
       "    }\n",
       "</style>\n",
       "<table border=\"1\" class=\"dataframe\">\n",
       "  <thead>\n",
       "    <tr style=\"text-align: right;\">\n",
       "      <th></th>\n",
       "      <th>Rooms</th>\n",
       "      <th>Price</th>\n",
       "      <th>Distance</th>\n",
       "      <th>Bedroom2</th>\n",
       "      <th>Bathroom</th>\n",
       "      <th>Car</th>\n",
       "      <th>Landsize</th>\n",
       "      <th>BuildingArea</th>\n",
       "      <th>YearBuilt</th>\n",
       "    </tr>\n",
       "  </thead>\n",
       "  <tbody>\n",
       "    <tr>\n",
       "      <th>Rooms</th>\n",
       "      <td>1.000000</td>\n",
       "      <td>0.534468</td>\n",
       "      <td>0.279446</td>\n",
       "      <td>0.841577</td>\n",
       "      <td>0.546363</td>\n",
       "      <td>0.372365</td>\n",
       "      <td>0.097034</td>\n",
       "      <td>0.197713</td>\n",
       "      <td>-0.019975</td>\n",
       "    </tr>\n",
       "    <tr>\n",
       "      <th>Price</th>\n",
       "      <td>0.534468</td>\n",
       "      <td>1.000000</td>\n",
       "      <td>-0.144326</td>\n",
       "      <td>0.483416</td>\n",
       "      <td>0.476125</td>\n",
       "      <td>0.248624</td>\n",
       "      <td>0.044973</td>\n",
       "      <td>0.131682</td>\n",
       "      <td>0.063181</td>\n",
       "    </tr>\n",
       "    <tr>\n",
       "      <th>Distance</th>\n",
       "      <td>0.279446</td>\n",
       "      <td>-0.144326</td>\n",
       "      <td>1.000000</td>\n",
       "      <td>0.242660</td>\n",
       "      <td>0.101189</td>\n",
       "      <td>0.238486</td>\n",
       "      <td>0.139192</td>\n",
       "      <td>0.146626</td>\n",
       "      <td>-0.195234</td>\n",
       "    </tr>\n",
       "    <tr>\n",
       "      <th>Bedroom2</th>\n",
       "      <td>0.841577</td>\n",
       "      <td>0.483416</td>\n",
       "      <td>0.242660</td>\n",
       "      <td>1.000000</td>\n",
       "      <td>0.617257</td>\n",
       "      <td>0.427213</td>\n",
       "      <td>0.095796</td>\n",
       "      <td>0.217746</td>\n",
       "      <td>-0.040766</td>\n",
       "    </tr>\n",
       "    <tr>\n",
       "      <th>Bathroom</th>\n",
       "      <td>0.546363</td>\n",
       "      <td>0.476125</td>\n",
       "      <td>0.101189</td>\n",
       "      <td>0.617257</td>\n",
       "      <td>1.000000</td>\n",
       "      <td>0.337490</td>\n",
       "      <td>0.067471</td>\n",
       "      <td>0.177177</td>\n",
       "      <td>0.014972</td>\n",
       "    </tr>\n",
       "    <tr>\n",
       "      <th>Car</th>\n",
       "      <td>0.372365</td>\n",
       "      <td>0.248624</td>\n",
       "      <td>0.238486</td>\n",
       "      <td>0.427213</td>\n",
       "      <td>0.337490</td>\n",
       "      <td>1.000000</td>\n",
       "      <td>0.121404</td>\n",
       "      <td>0.133110</td>\n",
       "      <td>-0.032239</td>\n",
       "    </tr>\n",
       "    <tr>\n",
       "      <th>Landsize</th>\n",
       "      <td>0.097034</td>\n",
       "      <td>0.044973</td>\n",
       "      <td>0.139192</td>\n",
       "      <td>0.095796</td>\n",
       "      <td>0.067471</td>\n",
       "      <td>0.121404</td>\n",
       "      <td>1.000000</td>\n",
       "      <td>0.158735</td>\n",
       "      <td>-0.360502</td>\n",
       "    </tr>\n",
       "    <tr>\n",
       "      <th>BuildingArea</th>\n",
       "      <td>0.197713</td>\n",
       "      <td>0.131682</td>\n",
       "      <td>0.146626</td>\n",
       "      <td>0.217746</td>\n",
       "      <td>0.177177</td>\n",
       "      <td>0.133110</td>\n",
       "      <td>0.158735</td>\n",
       "      <td>1.000000</td>\n",
       "      <td>-0.362132</td>\n",
       "    </tr>\n",
       "    <tr>\n",
       "      <th>YearBuilt</th>\n",
       "      <td>-0.019975</td>\n",
       "      <td>0.063181</td>\n",
       "      <td>-0.195234</td>\n",
       "      <td>-0.040766</td>\n",
       "      <td>0.014972</td>\n",
       "      <td>-0.032239</td>\n",
       "      <td>-0.360502</td>\n",
       "      <td>-0.362132</td>\n",
       "      <td>1.000000</td>\n",
       "    </tr>\n",
       "  </tbody>\n",
       "</table>\n",
       "</div>"
      ],
      "text/plain": [
       "                 Rooms     Price  Distance  Bedroom2  Bathroom       Car  \\\n",
       "Rooms         1.000000  0.534468  0.279446  0.841577  0.546363  0.372365   \n",
       "Price         0.534468  1.000000 -0.144326  0.483416  0.476125  0.248624   \n",
       "Distance      0.279446 -0.144326  1.000000  0.242660  0.101189  0.238486   \n",
       "Bedroom2      0.841577  0.483416  0.242660  1.000000  0.617257  0.427213   \n",
       "Bathroom      0.546363  0.476125  0.101189  0.617257  1.000000  0.337490   \n",
       "Car           0.372365  0.248624  0.238486  0.427213  0.337490  1.000000   \n",
       "Landsize      0.097034  0.044973  0.139192  0.095796  0.067471  0.121404   \n",
       "BuildingArea  0.197713  0.131682  0.146626  0.217746  0.177177  0.133110   \n",
       "YearBuilt    -0.019975  0.063181 -0.195234 -0.040766  0.014972 -0.032239   \n",
       "\n",
       "              Landsize  BuildingArea  YearBuilt  \n",
       "Rooms         0.097034      0.197713  -0.019975  \n",
       "Price         0.044973      0.131682   0.063181  \n",
       "Distance      0.139192      0.146626  -0.195234  \n",
       "Bedroom2      0.095796      0.217746  -0.040766  \n",
       "Bathroom      0.067471      0.177177   0.014972  \n",
       "Car           0.121404      0.133110  -0.032239  \n",
       "Landsize      1.000000      0.158735  -0.360502  \n",
       "BuildingArea  0.158735      1.000000  -0.362132  \n",
       "YearBuilt    -0.360502     -0.362132   1.000000  "
      ]
     },
     "execution_count": 110,
     "metadata": {},
     "output_type": "execute_result"
    }
   ],
   "source": [
    "matrix = df_new.corr()\n",
    "matrix"
   ]
  },
  {
   "cell_type": "code",
   "execution_count": 122,
   "id": "4f82935b",
   "metadata": {},
   "outputs": [
    {
     "data": {
      "text/plain": [
       "<AxesSubplot:>"
      ]
     },
     "execution_count": 122,
     "metadata": {},
     "output_type": "execute_result"
    },
    {
     "data": {
      "image/png": "[encoded data removed]",
      "text/plain": [
       "<Figure size 432x288 with 2 Axes>"
      ]
     },
     "metadata": {
      "needs_background": "light"
     },
     "output_type": "display_data"
    }
   ],
   "source": [
    "import seaborn as sns\n",
    "\n",
    "sns.heatmap(matrix,cmap = 'cubehelix',annot= True)"
   ]
  },
  {
   "cell_type": "markdown",
   "id": "5003cd0a",
   "metadata": {},
   "source": [
    "Check for correlation between output variable and input variables\n",
    "\n",
    "With Price -> Rooms, Bedroom and Bathroom are highly correlated\n",
    "\n",
    "Rooms vs Bedroom2 = 0.84\n",
    "\n",
    "Rooms vs Bathroom = 0.55\n",
    "\n",
    "Bedroom2 vs Bathroom = 0.62\n",
    "\n",
    "SO choose either rooms or bedroom"
   ]
  },
  {
   "cell_type": "code",
   "execution_count": 123,
   "id": "6f24087a",
   "metadata": {},
   "outputs": [],
   "source": [
    "#Let us build the model using only Rooms and bathroom"
   ]
  },
  {
   "cell_type": "code",
   "execution_count": 130,
   "id": "ecff1c22",
   "metadata": {},
   "outputs": [],
   "source": [
    "df_final = df_new[['Price','Rooms','Bathroom']]"
   ]
  },
  {
   "cell_type": "code",
   "execution_count": 140,
   "id": "36d40282",
   "metadata": {},
   "outputs": [],
   "source": [
    "y = df_final[['Price']]\n",
    "x = df_final[['Rooms','Bathroom']]"
   ]
  },
  {
   "cell_type": "code",
   "execution_count": 141,
   "id": "6788e19f",
   "metadata": {},
   "outputs": [],
   "source": [
    "x_train,x_test,y_train,y_test = train_test_split(x,y,test_size=0.2,random_state = 42)"
   ]
  },
  {
   "cell_type": "code",
   "execution_count": 142,
   "id": "43642736",
   "metadata": {},
   "outputs": [],
   "source": [
    "#Building the model\n",
    "from sklearn.linear_model import LinearRegression\n",
    "mlr = LinearRegression()\n",
    "model = mlr.fit(x_train,y_train)"
   ]
  },
  {
   "cell_type": "code",
   "execution_count": 143,
   "id": "4c8616e8",
   "metadata": {},
   "outputs": [
    {
     "data": {
      "text/plain": [
       "0.3340627145322773"
      ]
     },
     "execution_count": 143,
     "metadata": {},
     "output_type": "execute_result"
    }
   ],
   "source": [
    "model.score(x_train,y_train)"
   ]
  },
  {
   "cell_type": "code",
   "execution_count": null,
   "id": "0e15e610",
   "metadata": {},
   "outputs": [],
   "source": []
  }
 ],
 "metadata": {
  "kernelspec": {
   "display_name": "Python 3 (ipykernel)",
   "language": "python",
   "name": "python3"
  },
  "language_info": {
   "codemirror_mode": {
    "name": "ipython",
    "version": 3
   },
   "file_extension": ".py",
   "mimetype": "text/x-python",
   "name": "python",
   "nbconvert_exporter": "python",
   "pygments_lexer": "ipython3",
   "version": "3.9.7"
  }
 },
 "nbformat": 4,
 "nbformat_minor": 5
}
